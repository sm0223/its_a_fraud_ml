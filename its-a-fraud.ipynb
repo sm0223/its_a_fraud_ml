{
 "cells": [
  {
   "cell_type": "code",
   "execution_count": 95,
   "id": "a6a6ecf9",
   "metadata": {},
   "outputs": [],
   "source": [
    "import numpy as np\n",
    "import pandas as pd\n",
    "import matplotlib.pyplot as plt\n",
    "import seaborn as sns\n"
   ]
  },
  {
   "cell_type": "code",
   "execution_count": 96,
   "id": "3821659b",
   "metadata": {},
   "outputs": [],
   "source": [
    "df=pd.read_csv(\"train.csv\")"
   ]
  },
  {
   "cell_type": "code",
   "execution_count": 97,
   "id": "4eccf5b1",
   "metadata": {},
   "outputs": [
    {
     "data": {
      "text/html": [
       "<div>\n",
       "<style scoped>\n",
       "    .dataframe tbody tr th:only-of-type {\n",
       "        vertical-align: middle;\n",
       "    }\n",
       "\n",
       "    .dataframe tbody tr th {\n",
       "        vertical-align: top;\n",
       "    }\n",
       "\n",
       "    .dataframe thead th {\n",
       "        text-align: right;\n",
       "    }\n",
       "</style>\n",
       "<table border=\"1\" class=\"dataframe\">\n",
       "  <thead>\n",
       "    <tr style=\"text-align: right;\">\n",
       "      <th></th>\n",
       "      <th>TransactionID</th>\n",
       "      <th>isFraud</th>\n",
       "      <th>TransactionDT</th>\n",
       "      <th>TransactionAmt</th>\n",
       "      <th>ProductCD</th>\n",
       "      <th>card1</th>\n",
       "      <th>card2</th>\n",
       "      <th>card3</th>\n",
       "      <th>card4</th>\n",
       "      <th>card5</th>\n",
       "      <th>...</th>\n",
       "      <th>id_31</th>\n",
       "      <th>id_32</th>\n",
       "      <th>id_33</th>\n",
       "      <th>id_34</th>\n",
       "      <th>id_35</th>\n",
       "      <th>id_36</th>\n",
       "      <th>id_37</th>\n",
       "      <th>id_38</th>\n",
       "      <th>DeviceType</th>\n",
       "      <th>DeviceInfo</th>\n",
       "    </tr>\n",
       "  </thead>\n",
       "  <tbody>\n",
       "    <tr>\n",
       "      <th>0</th>\n",
       "      <td>3424175</td>\n",
       "      <td>0</td>\n",
       "      <td>11053717</td>\n",
       "      <td>49.00</td>\n",
       "      <td>W</td>\n",
       "      <td>5033</td>\n",
       "      <td>269.0</td>\n",
       "      <td>150.0</td>\n",
       "      <td>mastercard</td>\n",
       "      <td>224.0</td>\n",
       "      <td>...</td>\n",
       "      <td>NaN</td>\n",
       "      <td>NaN</td>\n",
       "      <td>NaN</td>\n",
       "      <td>NaN</td>\n",
       "      <td>NaN</td>\n",
       "      <td>NaN</td>\n",
       "      <td>NaN</td>\n",
       "      <td>NaN</td>\n",
       "      <td>NaN</td>\n",
       "      <td>NaN</td>\n",
       "    </tr>\n",
       "    <tr>\n",
       "      <th>1</th>\n",
       "      <td>3206179</td>\n",
       "      <td>0</td>\n",
       "      <td>5150800</td>\n",
       "      <td>57.95</td>\n",
       "      <td>W</td>\n",
       "      <td>4527</td>\n",
       "      <td>376.0</td>\n",
       "      <td>150.0</td>\n",
       "      <td>visa</td>\n",
       "      <td>226.0</td>\n",
       "      <td>...</td>\n",
       "      <td>NaN</td>\n",
       "      <td>NaN</td>\n",
       "      <td>NaN</td>\n",
       "      <td>NaN</td>\n",
       "      <td>NaN</td>\n",
       "      <td>NaN</td>\n",
       "      <td>NaN</td>\n",
       "      <td>NaN</td>\n",
       "      <td>NaN</td>\n",
       "      <td>NaN</td>\n",
       "    </tr>\n",
       "    <tr>\n",
       "      <th>2</th>\n",
       "      <td>3410455</td>\n",
       "      <td>0</td>\n",
       "      <td>10713596</td>\n",
       "      <td>115.95</td>\n",
       "      <td>W</td>\n",
       "      <td>2772</td>\n",
       "      <td>512.0</td>\n",
       "      <td>150.0</td>\n",
       "      <td>visa</td>\n",
       "      <td>226.0</td>\n",
       "      <td>...</td>\n",
       "      <td>NaN</td>\n",
       "      <td>NaN</td>\n",
       "      <td>NaN</td>\n",
       "      <td>NaN</td>\n",
       "      <td>NaN</td>\n",
       "      <td>NaN</td>\n",
       "      <td>NaN</td>\n",
       "      <td>NaN</td>\n",
       "      <td>NaN</td>\n",
       "      <td>NaN</td>\n",
       "    </tr>\n",
       "    <tr>\n",
       "      <th>3</th>\n",
       "      <td>3058578</td>\n",
       "      <td>0</td>\n",
       "      <td>1611950</td>\n",
       "      <td>100.00</td>\n",
       "      <td>H</td>\n",
       "      <td>14290</td>\n",
       "      <td>512.0</td>\n",
       "      <td>150.0</td>\n",
       "      <td>visa</td>\n",
       "      <td>226.0</td>\n",
       "      <td>...</td>\n",
       "      <td>chrome 62.0</td>\n",
       "      <td>24.0</td>\n",
       "      <td>1920x1080</td>\n",
       "      <td>match_status:2</td>\n",
       "      <td>T</td>\n",
       "      <td>F</td>\n",
       "      <td>T</td>\n",
       "      <td>T</td>\n",
       "      <td>desktop</td>\n",
       "      <td>Windows</td>\n",
       "    </tr>\n",
       "    <tr>\n",
       "      <th>4</th>\n",
       "      <td>3242131</td>\n",
       "      <td>0</td>\n",
       "      <td>6111087</td>\n",
       "      <td>95.00</td>\n",
       "      <td>W</td>\n",
       "      <td>12839</td>\n",
       "      <td>321.0</td>\n",
       "      <td>150.0</td>\n",
       "      <td>visa</td>\n",
       "      <td>226.0</td>\n",
       "      <td>...</td>\n",
       "      <td>NaN</td>\n",
       "      <td>NaN</td>\n",
       "      <td>NaN</td>\n",
       "      <td>NaN</td>\n",
       "      <td>NaN</td>\n",
       "      <td>NaN</td>\n",
       "      <td>NaN</td>\n",
       "      <td>NaN</td>\n",
       "      <td>NaN</td>\n",
       "      <td>NaN</td>\n",
       "    </tr>\n",
       "    <tr>\n",
       "      <th>...</th>\n",
       "      <td>...</td>\n",
       "      <td>...</td>\n",
       "      <td>...</td>\n",
       "      <td>...</td>\n",
       "      <td>...</td>\n",
       "      <td>...</td>\n",
       "      <td>...</td>\n",
       "      <td>...</td>\n",
       "      <td>...</td>\n",
       "      <td>...</td>\n",
       "      <td>...</td>\n",
       "      <td>...</td>\n",
       "      <td>...</td>\n",
       "      <td>...</td>\n",
       "      <td>...</td>\n",
       "      <td>...</td>\n",
       "      <td>...</td>\n",
       "      <td>...</td>\n",
       "      <td>...</td>\n",
       "      <td>...</td>\n",
       "      <td>...</td>\n",
       "    </tr>\n",
       "    <tr>\n",
       "      <th>442900</th>\n",
       "      <td>3020019</td>\n",
       "      <td>0</td>\n",
       "      <td>832530</td>\n",
       "      <td>29.00</td>\n",
       "      <td>W</td>\n",
       "      <td>3277</td>\n",
       "      <td>111.0</td>\n",
       "      <td>150.0</td>\n",
       "      <td>visa</td>\n",
       "      <td>226.0</td>\n",
       "      <td>...</td>\n",
       "      <td>NaN</td>\n",
       "      <td>NaN</td>\n",
       "      <td>NaN</td>\n",
       "      <td>NaN</td>\n",
       "      <td>NaN</td>\n",
       "      <td>NaN</td>\n",
       "      <td>NaN</td>\n",
       "      <td>NaN</td>\n",
       "      <td>NaN</td>\n",
       "      <td>NaN</td>\n",
       "    </tr>\n",
       "    <tr>\n",
       "      <th>442901</th>\n",
       "      <td>3546388</td>\n",
       "      <td>0</td>\n",
       "      <td>14827575</td>\n",
       "      <td>97.00</td>\n",
       "      <td>W</td>\n",
       "      <td>18132</td>\n",
       "      <td>567.0</td>\n",
       "      <td>150.0</td>\n",
       "      <td>mastercard</td>\n",
       "      <td>117.0</td>\n",
       "      <td>...</td>\n",
       "      <td>NaN</td>\n",
       "      <td>NaN</td>\n",
       "      <td>NaN</td>\n",
       "      <td>NaN</td>\n",
       "      <td>NaN</td>\n",
       "      <td>NaN</td>\n",
       "      <td>NaN</td>\n",
       "      <td>NaN</td>\n",
       "      <td>NaN</td>\n",
       "      <td>NaN</td>\n",
       "    </tr>\n",
       "    <tr>\n",
       "      <th>442902</th>\n",
       "      <td>3087445</td>\n",
       "      <td>0</td>\n",
       "      <td>2036666</td>\n",
       "      <td>100.00</td>\n",
       "      <td>R</td>\n",
       "      <td>6019</td>\n",
       "      <td>583.0</td>\n",
       "      <td>150.0</td>\n",
       "      <td>visa</td>\n",
       "      <td>226.0</td>\n",
       "      <td>...</td>\n",
       "      <td>safari generic</td>\n",
       "      <td>24.0</td>\n",
       "      <td>2560x1600</td>\n",
       "      <td>match_status:2</td>\n",
       "      <td>T</td>\n",
       "      <td>F</td>\n",
       "      <td>F</td>\n",
       "      <td>F</td>\n",
       "      <td>desktop</td>\n",
       "      <td>MacOS</td>\n",
       "    </tr>\n",
       "    <tr>\n",
       "      <th>442903</th>\n",
       "      <td>3066953</td>\n",
       "      <td>0</td>\n",
       "      <td>1724427</td>\n",
       "      <td>25.00</td>\n",
       "      <td>H</td>\n",
       "      <td>10737</td>\n",
       "      <td>399.0</td>\n",
       "      <td>150.0</td>\n",
       "      <td>american express</td>\n",
       "      <td>118.0</td>\n",
       "      <td>...</td>\n",
       "      <td>mobile safari generic</td>\n",
       "      <td>32.0</td>\n",
       "      <td>2436x1125</td>\n",
       "      <td>match_status:2</td>\n",
       "      <td>T</td>\n",
       "      <td>F</td>\n",
       "      <td>F</td>\n",
       "      <td>T</td>\n",
       "      <td>mobile</td>\n",
       "      <td>iOS Device</td>\n",
       "    </tr>\n",
       "    <tr>\n",
       "      <th>442904</th>\n",
       "      <td>3505849</td>\n",
       "      <td>0</td>\n",
       "      <td>13621776</td>\n",
       "      <td>50.00</td>\n",
       "      <td>S</td>\n",
       "      <td>6019</td>\n",
       "      <td>583.0</td>\n",
       "      <td>150.0</td>\n",
       "      <td>visa</td>\n",
       "      <td>226.0</td>\n",
       "      <td>...</td>\n",
       "      <td>edge 16.0</td>\n",
       "      <td>24.0</td>\n",
       "      <td>1920x1080</td>\n",
       "      <td>match_status:2</td>\n",
       "      <td>T</td>\n",
       "      <td>F</td>\n",
       "      <td>T</td>\n",
       "      <td>T</td>\n",
       "      <td>desktop</td>\n",
       "      <td>Windows</td>\n",
       "    </tr>\n",
       "  </tbody>\n",
       "</table>\n",
       "<p>442905 rows × 434 columns</p>\n",
       "</div>"
      ],
      "text/plain": [
       "        TransactionID  isFraud  TransactionDT  TransactionAmt ProductCD  \\\n",
       "0             3424175        0       11053717           49.00         W   \n",
       "1             3206179        0        5150800           57.95         W   \n",
       "2             3410455        0       10713596          115.95         W   \n",
       "3             3058578        0        1611950          100.00         H   \n",
       "4             3242131        0        6111087           95.00         W   \n",
       "...               ...      ...            ...             ...       ...   \n",
       "442900        3020019        0         832530           29.00         W   \n",
       "442901        3546388        0       14827575           97.00         W   \n",
       "442902        3087445        0        2036666          100.00         R   \n",
       "442903        3066953        0        1724427           25.00         H   \n",
       "442904        3505849        0       13621776           50.00         S   \n",
       "\n",
       "        card1  card2  card3             card4  card5  ...  \\\n",
       "0        5033  269.0  150.0        mastercard  224.0  ...   \n",
       "1        4527  376.0  150.0              visa  226.0  ...   \n",
       "2        2772  512.0  150.0              visa  226.0  ...   \n",
       "3       14290  512.0  150.0              visa  226.0  ...   \n",
       "4       12839  321.0  150.0              visa  226.0  ...   \n",
       "...       ...    ...    ...               ...    ...  ...   \n",
       "442900   3277  111.0  150.0              visa  226.0  ...   \n",
       "442901  18132  567.0  150.0        mastercard  117.0  ...   \n",
       "442902   6019  583.0  150.0              visa  226.0  ...   \n",
       "442903  10737  399.0  150.0  american express  118.0  ...   \n",
       "442904   6019  583.0  150.0              visa  226.0  ...   \n",
       "\n",
       "                        id_31  id_32      id_33           id_34  id_35 id_36  \\\n",
       "0                         NaN    NaN        NaN             NaN    NaN   NaN   \n",
       "1                         NaN    NaN        NaN             NaN    NaN   NaN   \n",
       "2                         NaN    NaN        NaN             NaN    NaN   NaN   \n",
       "3                 chrome 62.0   24.0  1920x1080  match_status:2      T     F   \n",
       "4                         NaN    NaN        NaN             NaN    NaN   NaN   \n",
       "...                       ...    ...        ...             ...    ...   ...   \n",
       "442900                    NaN    NaN        NaN             NaN    NaN   NaN   \n",
       "442901                    NaN    NaN        NaN             NaN    NaN   NaN   \n",
       "442902         safari generic   24.0  2560x1600  match_status:2      T     F   \n",
       "442903  mobile safari generic   32.0  2436x1125  match_status:2      T     F   \n",
       "442904              edge 16.0   24.0  1920x1080  match_status:2      T     F   \n",
       "\n",
       "       id_37  id_38  DeviceType  DeviceInfo  \n",
       "0        NaN    NaN         NaN         NaN  \n",
       "1        NaN    NaN         NaN         NaN  \n",
       "2        NaN    NaN         NaN         NaN  \n",
       "3          T      T     desktop     Windows  \n",
       "4        NaN    NaN         NaN         NaN  \n",
       "...      ...    ...         ...         ...  \n",
       "442900   NaN    NaN         NaN         NaN  \n",
       "442901   NaN    NaN         NaN         NaN  \n",
       "442902     F      F     desktop       MacOS  \n",
       "442903     F      T      mobile  iOS Device  \n",
       "442904     T      T     desktop     Windows  \n",
       "\n",
       "[442905 rows x 434 columns]"
      ]
     },
     "execution_count": 97,
     "metadata": {},
     "output_type": "execute_result"
    }
   ],
   "source": [
    "df"
   ]
  },
  {
   "cell_type": "code",
   "execution_count": 98,
   "id": "0116a2f7",
   "metadata": {},
   "outputs": [],
   "source": [
    "# pd.set_option('display.max_columns',None)\n",
    "# pd.set_option('display.max_rows',250)"
   ]
  },
  {
   "cell_type": "markdown",
   "id": "6b51801a",
   "metadata": {},
   "source": [
    "## Pre-Processing"
   ]
  },
  {
   "cell_type": "markdown",
   "id": "e77e3ef1",
   "metadata": {},
   "source": [
    "#### Checking For NULL values"
   ]
  },
  {
   "cell_type": "code",
   "execution_count": 99,
   "id": "17a7a285",
   "metadata": {},
   "outputs": [
    {
     "data": {
      "text/plain": [
       "TransactionID     0.000000\n",
       "isFraud           0.000000\n",
       "TransactionDT     0.000000\n",
       "TransactionAmt    0.000000\n",
       "ProductCD         0.000000\n",
       "                    ...   \n",
       "id_36             0.761719\n",
       "id_37             0.761719\n",
       "id_38             0.761719\n",
       "DeviceType        0.762023\n",
       "DeviceInfo        0.799228\n",
       "Length: 434, dtype: float64"
      ]
     },
     "execution_count": 99,
     "metadata": {},
     "output_type": "execute_result"
    }
   ],
   "source": [
    "null_var=(df.isnull().sum())/df.shape[0]\n",
    "null_var"
   ]
  },
  {
   "cell_type": "code",
   "execution_count": 100,
   "id": "8b5a3ae3",
   "metadata": {},
   "outputs": [],
   "source": [
    "# dropping columns with more than 70% null values\n",
    "drop_cols=null_var[null_var>0.7].keys()\n",
    "x=df.drop(columns=drop_cols)"
   ]
  },
  {
   "cell_type": "code",
   "execution_count": 101,
   "id": "116bfc66",
   "metadata": {},
   "outputs": [
    {
     "data": {
      "text/plain": [
       "dist1            59.672164\n",
       "M5               59.322202\n",
       "M7               58.668112\n",
       "M8               58.665854\n",
       "M9               58.665854\n",
       "                   ...    \n",
       "C12               0.000000\n",
       "C13               0.000000\n",
       "C14               0.000000\n",
       "isFraud           0.000000\n",
       "TransactionID     0.000000\n",
       "Length: 226, dtype: float64"
      ]
     },
     "execution_count": 101,
     "metadata": {},
     "output_type": "execute_result"
    }
   ],
   "source": [
    "x.isna().sum().sort_values(ascending = False) / len(x) *100"
   ]
  },
  {
   "cell_type": "code",
   "execution_count": 102,
   "id": "ee557915",
   "metadata": {},
   "outputs": [],
   "source": [
    "#splitting columns based on categorical and numerical columns for EDA and PCA\n",
    "df_num = x.select_dtypes(exclude='object')\n",
    "df_cat = x.select_dtypes(include='object')"
   ]
  },
  {
   "cell_type": "code",
   "execution_count": 103,
   "id": "247b9a7f",
   "metadata": {},
   "outputs": [
    {
     "data": {
      "text/plain": [
       "ProductCD             0\n",
       "card4              1191\n",
       "card6              1185\n",
       "P_emaildomain     70931\n",
       "M1               203382\n",
       "M2               203382\n",
       "M3               203382\n",
       "M4               211147\n",
       "M5               262741\n",
       "M6               126786\n",
       "M7               259844\n",
       "M8               259834\n",
       "M9               259834\n",
       "dtype: int64"
      ]
     },
     "execution_count": 103,
     "metadata": {},
     "output_type": "execute_result"
    }
   ],
   "source": [
    "df_cat.isna().sum()"
   ]
  },
  {
   "cell_type": "code",
   "execution_count": 104,
   "id": "c57eb0a4",
   "metadata": {},
   "outputs": [
    {
     "data": {
      "text/html": [
       "<div>\n",
       "<style scoped>\n",
       "    .dataframe tbody tr th:only-of-type {\n",
       "        vertical-align: middle;\n",
       "    }\n",
       "\n",
       "    .dataframe tbody tr th {\n",
       "        vertical-align: top;\n",
       "    }\n",
       "\n",
       "    .dataframe thead th {\n",
       "        text-align: right;\n",
       "    }\n",
       "</style>\n",
       "<table border=\"1\" class=\"dataframe\">\n",
       "  <thead>\n",
       "    <tr style=\"text-align: right;\">\n",
       "      <th></th>\n",
       "      <th>TransactionID</th>\n",
       "      <th>isFraud</th>\n",
       "      <th>TransactionDT</th>\n",
       "      <th>TransactionAmt</th>\n",
       "      <th>card1</th>\n",
       "      <th>card2</th>\n",
       "      <th>card3</th>\n",
       "      <th>card5</th>\n",
       "      <th>addr1</th>\n",
       "      <th>addr2</th>\n",
       "      <th>...</th>\n",
       "      <th>V312</th>\n",
       "      <th>V313</th>\n",
       "      <th>V314</th>\n",
       "      <th>V315</th>\n",
       "      <th>V316</th>\n",
       "      <th>V317</th>\n",
       "      <th>V318</th>\n",
       "      <th>V319</th>\n",
       "      <th>V320</th>\n",
       "      <th>V321</th>\n",
       "    </tr>\n",
       "  </thead>\n",
       "  <tbody>\n",
       "    <tr>\n",
       "      <th>0</th>\n",
       "      <td>3424175</td>\n",
       "      <td>0</td>\n",
       "      <td>11053717</td>\n",
       "      <td>49.00</td>\n",
       "      <td>5033</td>\n",
       "      <td>269.0</td>\n",
       "      <td>150.0</td>\n",
       "      <td>224.0</td>\n",
       "      <td>330.0</td>\n",
       "      <td>87.0</td>\n",
       "      <td>...</td>\n",
       "      <td>0.000000</td>\n",
       "      <td>49.000000</td>\n",
       "      <td>98.000000</td>\n",
       "      <td>98.000000</td>\n",
       "      <td>0.0</td>\n",
       "      <td>0.0</td>\n",
       "      <td>0.0</td>\n",
       "      <td>0.000000</td>\n",
       "      <td>0.000000</td>\n",
       "      <td>0.000000</td>\n",
       "    </tr>\n",
       "    <tr>\n",
       "      <th>1</th>\n",
       "      <td>3206179</td>\n",
       "      <td>0</td>\n",
       "      <td>5150800</td>\n",
       "      <td>57.95</td>\n",
       "      <td>4527</td>\n",
       "      <td>376.0</td>\n",
       "      <td>150.0</td>\n",
       "      <td>226.0</td>\n",
       "      <td>441.0</td>\n",
       "      <td>87.0</td>\n",
       "      <td>...</td>\n",
       "      <td>0.000000</td>\n",
       "      <td>0.000000</td>\n",
       "      <td>0.000000</td>\n",
       "      <td>0.000000</td>\n",
       "      <td>0.0</td>\n",
       "      <td>0.0</td>\n",
       "      <td>0.0</td>\n",
       "      <td>0.000000</td>\n",
       "      <td>0.000000</td>\n",
       "      <td>0.000000</td>\n",
       "    </tr>\n",
       "    <tr>\n",
       "      <th>2</th>\n",
       "      <td>3410455</td>\n",
       "      <td>0</td>\n",
       "      <td>10713596</td>\n",
       "      <td>115.95</td>\n",
       "      <td>2772</td>\n",
       "      <td>512.0</td>\n",
       "      <td>150.0</td>\n",
       "      <td>226.0</td>\n",
       "      <td>143.0</td>\n",
       "      <td>87.0</td>\n",
       "      <td>...</td>\n",
       "      <td>0.000000</td>\n",
       "      <td>0.000000</td>\n",
       "      <td>0.000000</td>\n",
       "      <td>0.000000</td>\n",
       "      <td>0.0</td>\n",
       "      <td>0.0</td>\n",
       "      <td>0.0</td>\n",
       "      <td>107.949997</td>\n",
       "      <td>107.949997</td>\n",
       "      <td>107.949997</td>\n",
       "    </tr>\n",
       "    <tr>\n",
       "      <th>3</th>\n",
       "      <td>3058578</td>\n",
       "      <td>0</td>\n",
       "      <td>1611950</td>\n",
       "      <td>100.00</td>\n",
       "      <td>14290</td>\n",
       "      <td>512.0</td>\n",
       "      <td>150.0</td>\n",
       "      <td>226.0</td>\n",
       "      <td>177.0</td>\n",
       "      <td>87.0</td>\n",
       "      <td>...</td>\n",
       "      <td>0.000000</td>\n",
       "      <td>0.000000</td>\n",
       "      <td>0.000000</td>\n",
       "      <td>0.000000</td>\n",
       "      <td>0.0</td>\n",
       "      <td>0.0</td>\n",
       "      <td>0.0</td>\n",
       "      <td>0.000000</td>\n",
       "      <td>0.000000</td>\n",
       "      <td>0.000000</td>\n",
       "    </tr>\n",
       "    <tr>\n",
       "      <th>4</th>\n",
       "      <td>3242131</td>\n",
       "      <td>0</td>\n",
       "      <td>6111087</td>\n",
       "      <td>95.00</td>\n",
       "      <td>12839</td>\n",
       "      <td>321.0</td>\n",
       "      <td>150.0</td>\n",
       "      <td>226.0</td>\n",
       "      <td>220.0</td>\n",
       "      <td>87.0</td>\n",
       "      <td>...</td>\n",
       "      <td>64.949997</td>\n",
       "      <td>23.950001</td>\n",
       "      <td>120.900002</td>\n",
       "      <td>72.949997</td>\n",
       "      <td>0.0</td>\n",
       "      <td>0.0</td>\n",
       "      <td>0.0</td>\n",
       "      <td>0.000000</td>\n",
       "      <td>0.000000</td>\n",
       "      <td>0.000000</td>\n",
       "    </tr>\n",
       "    <tr>\n",
       "      <th>...</th>\n",
       "      <td>...</td>\n",
       "      <td>...</td>\n",
       "      <td>...</td>\n",
       "      <td>...</td>\n",
       "      <td>...</td>\n",
       "      <td>...</td>\n",
       "      <td>...</td>\n",
       "      <td>...</td>\n",
       "      <td>...</td>\n",
       "      <td>...</td>\n",
       "      <td>...</td>\n",
       "      <td>...</td>\n",
       "      <td>...</td>\n",
       "      <td>...</td>\n",
       "      <td>...</td>\n",
       "      <td>...</td>\n",
       "      <td>...</td>\n",
       "      <td>...</td>\n",
       "      <td>...</td>\n",
       "      <td>...</td>\n",
       "      <td>...</td>\n",
       "    </tr>\n",
       "    <tr>\n",
       "      <th>442900</th>\n",
       "      <td>3020019</td>\n",
       "      <td>0</td>\n",
       "      <td>832530</td>\n",
       "      <td>29.00</td>\n",
       "      <td>3277</td>\n",
       "      <td>111.0</td>\n",
       "      <td>150.0</td>\n",
       "      <td>226.0</td>\n",
       "      <td>231.0</td>\n",
       "      <td>87.0</td>\n",
       "      <td>...</td>\n",
       "      <td>32.000000</td>\n",
       "      <td>0.000000</td>\n",
       "      <td>0.000000</td>\n",
       "      <td>0.000000</td>\n",
       "      <td>0.0</td>\n",
       "      <td>50.0</td>\n",
       "      <td>0.0</td>\n",
       "      <td>0.000000</td>\n",
       "      <td>0.000000</td>\n",
       "      <td>0.000000</td>\n",
       "    </tr>\n",
       "    <tr>\n",
       "      <th>442901</th>\n",
       "      <td>3546388</td>\n",
       "      <td>0</td>\n",
       "      <td>14827575</td>\n",
       "      <td>97.00</td>\n",
       "      <td>18132</td>\n",
       "      <td>567.0</td>\n",
       "      <td>150.0</td>\n",
       "      <td>117.0</td>\n",
       "      <td>272.0</td>\n",
       "      <td>87.0</td>\n",
       "      <td>...</td>\n",
       "      <td>0.000000</td>\n",
       "      <td>0.000000</td>\n",
       "      <td>0.000000</td>\n",
       "      <td>0.000000</td>\n",
       "      <td>0.0</td>\n",
       "      <td>139.0</td>\n",
       "      <td>139.0</td>\n",
       "      <td>0.000000</td>\n",
       "      <td>374.000000</td>\n",
       "      <td>0.000000</td>\n",
       "    </tr>\n",
       "    <tr>\n",
       "      <th>442902</th>\n",
       "      <td>3087445</td>\n",
       "      <td>0</td>\n",
       "      <td>2036666</td>\n",
       "      <td>100.00</td>\n",
       "      <td>6019</td>\n",
       "      <td>583.0</td>\n",
       "      <td>150.0</td>\n",
       "      <td>226.0</td>\n",
       "      <td>441.0</td>\n",
       "      <td>87.0</td>\n",
       "      <td>...</td>\n",
       "      <td>0.000000</td>\n",
       "      <td>0.000000</td>\n",
       "      <td>0.000000</td>\n",
       "      <td>0.000000</td>\n",
       "      <td>0.0</td>\n",
       "      <td>0.0</td>\n",
       "      <td>0.0</td>\n",
       "      <td>0.000000</td>\n",
       "      <td>0.000000</td>\n",
       "      <td>0.000000</td>\n",
       "    </tr>\n",
       "    <tr>\n",
       "      <th>442903</th>\n",
       "      <td>3066953</td>\n",
       "      <td>0</td>\n",
       "      <td>1724427</td>\n",
       "      <td>25.00</td>\n",
       "      <td>10737</td>\n",
       "      <td>399.0</td>\n",
       "      <td>150.0</td>\n",
       "      <td>118.0</td>\n",
       "      <td>204.0</td>\n",
       "      <td>87.0</td>\n",
       "      <td>...</td>\n",
       "      <td>0.000000</td>\n",
       "      <td>0.000000</td>\n",
       "      <td>0.000000</td>\n",
       "      <td>0.000000</td>\n",
       "      <td>0.0</td>\n",
       "      <td>0.0</td>\n",
       "      <td>0.0</td>\n",
       "      <td>0.000000</td>\n",
       "      <td>0.000000</td>\n",
       "      <td>0.000000</td>\n",
       "    </tr>\n",
       "    <tr>\n",
       "      <th>442904</th>\n",
       "      <td>3505849</td>\n",
       "      <td>0</td>\n",
       "      <td>13621776</td>\n",
       "      <td>50.00</td>\n",
       "      <td>6019</td>\n",
       "      <td>583.0</td>\n",
       "      <td>150.0</td>\n",
       "      <td>226.0</td>\n",
       "      <td>264.0</td>\n",
       "      <td>87.0</td>\n",
       "      <td>...</td>\n",
       "      <td>0.000000</td>\n",
       "      <td>0.000000</td>\n",
       "      <td>0.000000</td>\n",
       "      <td>0.000000</td>\n",
       "      <td>0.0</td>\n",
       "      <td>0.0</td>\n",
       "      <td>0.0</td>\n",
       "      <td>0.000000</td>\n",
       "      <td>0.000000</td>\n",
       "      <td>0.000000</td>\n",
       "    </tr>\n",
       "  </tbody>\n",
       "</table>\n",
       "<p>442905 rows × 213 columns</p>\n",
       "</div>"
      ],
      "text/plain": [
       "        TransactionID  isFraud  TransactionDT  TransactionAmt  card1  card2  \\\n",
       "0             3424175        0       11053717           49.00   5033  269.0   \n",
       "1             3206179        0        5150800           57.95   4527  376.0   \n",
       "2             3410455        0       10713596          115.95   2772  512.0   \n",
       "3             3058578        0        1611950          100.00  14290  512.0   \n",
       "4             3242131        0        6111087           95.00  12839  321.0   \n",
       "...               ...      ...            ...             ...    ...    ...   \n",
       "442900        3020019        0         832530           29.00   3277  111.0   \n",
       "442901        3546388        0       14827575           97.00  18132  567.0   \n",
       "442902        3087445        0        2036666          100.00   6019  583.0   \n",
       "442903        3066953        0        1724427           25.00  10737  399.0   \n",
       "442904        3505849        0       13621776           50.00   6019  583.0   \n",
       "\n",
       "        card3  card5  addr1  addr2  ...       V312       V313        V314  \\\n",
       "0       150.0  224.0  330.0   87.0  ...   0.000000  49.000000   98.000000   \n",
       "1       150.0  226.0  441.0   87.0  ...   0.000000   0.000000    0.000000   \n",
       "2       150.0  226.0  143.0   87.0  ...   0.000000   0.000000    0.000000   \n",
       "3       150.0  226.0  177.0   87.0  ...   0.000000   0.000000    0.000000   \n",
       "4       150.0  226.0  220.0   87.0  ...  64.949997  23.950001  120.900002   \n",
       "...       ...    ...    ...    ...  ...        ...        ...         ...   \n",
       "442900  150.0  226.0  231.0   87.0  ...  32.000000   0.000000    0.000000   \n",
       "442901  150.0  117.0  272.0   87.0  ...   0.000000   0.000000    0.000000   \n",
       "442902  150.0  226.0  441.0   87.0  ...   0.000000   0.000000    0.000000   \n",
       "442903  150.0  118.0  204.0   87.0  ...   0.000000   0.000000    0.000000   \n",
       "442904  150.0  226.0  264.0   87.0  ...   0.000000   0.000000    0.000000   \n",
       "\n",
       "             V315  V316   V317   V318        V319        V320        V321  \n",
       "0       98.000000   0.0    0.0    0.0    0.000000    0.000000    0.000000  \n",
       "1        0.000000   0.0    0.0    0.0    0.000000    0.000000    0.000000  \n",
       "2        0.000000   0.0    0.0    0.0  107.949997  107.949997  107.949997  \n",
       "3        0.000000   0.0    0.0    0.0    0.000000    0.000000    0.000000  \n",
       "4       72.949997   0.0    0.0    0.0    0.000000    0.000000    0.000000  \n",
       "...           ...   ...    ...    ...         ...         ...         ...  \n",
       "442900   0.000000   0.0   50.0    0.0    0.000000    0.000000    0.000000  \n",
       "442901   0.000000   0.0  139.0  139.0    0.000000  374.000000    0.000000  \n",
       "442902   0.000000   0.0    0.0    0.0    0.000000    0.000000    0.000000  \n",
       "442903   0.000000   0.0    0.0    0.0    0.000000    0.000000    0.000000  \n",
       "442904   0.000000   0.0    0.0    0.0    0.000000    0.000000    0.000000  \n",
       "\n",
       "[442905 rows x 213 columns]"
      ]
     },
     "execution_count": 104,
     "metadata": {},
     "output_type": "execute_result"
    }
   ],
   "source": [
    "df_num"
   ]
  },
  {
   "cell_type": "code",
   "execution_count": 105,
   "id": "8500252d",
   "metadata": {},
   "outputs": [
    {
     "data": {
      "text/html": [
       "<div>\n",
       "<style scoped>\n",
       "    .dataframe tbody tr th:only-of-type {\n",
       "        vertical-align: middle;\n",
       "    }\n",
       "\n",
       "    .dataframe tbody tr th {\n",
       "        vertical-align: top;\n",
       "    }\n",
       "\n",
       "    .dataframe thead th {\n",
       "        text-align: right;\n",
       "    }\n",
       "</style>\n",
       "<table border=\"1\" class=\"dataframe\">\n",
       "  <thead>\n",
       "    <tr style=\"text-align: right;\">\n",
       "      <th></th>\n",
       "      <th>ProductCD</th>\n",
       "      <th>card4</th>\n",
       "      <th>card6</th>\n",
       "      <th>P_emaildomain</th>\n",
       "      <th>M1</th>\n",
       "      <th>M2</th>\n",
       "      <th>M3</th>\n",
       "      <th>M4</th>\n",
       "      <th>M5</th>\n",
       "      <th>M6</th>\n",
       "      <th>M7</th>\n",
       "      <th>M8</th>\n",
       "      <th>M9</th>\n",
       "    </tr>\n",
       "  </thead>\n",
       "  <tbody>\n",
       "    <tr>\n",
       "      <th>0</th>\n",
       "      <td>W</td>\n",
       "      <td>mastercard</td>\n",
       "      <td>debit</td>\n",
       "      <td>gmail.com</td>\n",
       "      <td>T</td>\n",
       "      <td>T</td>\n",
       "      <td>T</td>\n",
       "      <td>M0</td>\n",
       "      <td>T</td>\n",
       "      <td>F</td>\n",
       "      <td>NaN</td>\n",
       "      <td>NaN</td>\n",
       "      <td>NaN</td>\n",
       "    </tr>\n",
       "    <tr>\n",
       "      <th>1</th>\n",
       "      <td>W</td>\n",
       "      <td>visa</td>\n",
       "      <td>debit</td>\n",
       "      <td>gmail.com</td>\n",
       "      <td>NaN</td>\n",
       "      <td>NaN</td>\n",
       "      <td>NaN</td>\n",
       "      <td>NaN</td>\n",
       "      <td>NaN</td>\n",
       "      <td>F</td>\n",
       "      <td>NaN</td>\n",
       "      <td>NaN</td>\n",
       "      <td>NaN</td>\n",
       "    </tr>\n",
       "    <tr>\n",
       "      <th>2</th>\n",
       "      <td>W</td>\n",
       "      <td>visa</td>\n",
       "      <td>debit</td>\n",
       "      <td>centurylink.net</td>\n",
       "      <td>T</td>\n",
       "      <td>T</td>\n",
       "      <td>T</td>\n",
       "      <td>NaN</td>\n",
       "      <td>NaN</td>\n",
       "      <td>T</td>\n",
       "      <td>F</td>\n",
       "      <td>F</td>\n",
       "      <td>T</td>\n",
       "    </tr>\n",
       "    <tr>\n",
       "      <th>3</th>\n",
       "      <td>H</td>\n",
       "      <td>visa</td>\n",
       "      <td>debit</td>\n",
       "      <td>yahoo.com</td>\n",
       "      <td>NaN</td>\n",
       "      <td>NaN</td>\n",
       "      <td>NaN</td>\n",
       "      <td>NaN</td>\n",
       "      <td>NaN</td>\n",
       "      <td>NaN</td>\n",
       "      <td>NaN</td>\n",
       "      <td>NaN</td>\n",
       "      <td>NaN</td>\n",
       "    </tr>\n",
       "    <tr>\n",
       "      <th>4</th>\n",
       "      <td>W</td>\n",
       "      <td>visa</td>\n",
       "      <td>debit</td>\n",
       "      <td>gmail.com</td>\n",
       "      <td>T</td>\n",
       "      <td>T</td>\n",
       "      <td>T</td>\n",
       "      <td>M0</td>\n",
       "      <td>F</td>\n",
       "      <td>F</td>\n",
       "      <td>F</td>\n",
       "      <td>T</td>\n",
       "      <td>T</td>\n",
       "    </tr>\n",
       "  </tbody>\n",
       "</table>\n",
       "</div>"
      ],
      "text/plain": [
       "  ProductCD       card4  card6    P_emaildomain   M1   M2   M3   M4   M5   M6  \\\n",
       "0         W  mastercard  debit        gmail.com    T    T    T   M0    T    F   \n",
       "1         W        visa  debit        gmail.com  NaN  NaN  NaN  NaN  NaN    F   \n",
       "2         W        visa  debit  centurylink.net    T    T    T  NaN  NaN    T   \n",
       "3         H        visa  debit        yahoo.com  NaN  NaN  NaN  NaN  NaN  NaN   \n",
       "4         W        visa  debit        gmail.com    T    T    T   M0    F    F   \n",
       "\n",
       "    M7   M8   M9  \n",
       "0  NaN  NaN  NaN  \n",
       "1  NaN  NaN  NaN  \n",
       "2    F    F    T  \n",
       "3  NaN  NaN  NaN  \n",
       "4    F    T    T  "
      ]
     },
     "execution_count": 105,
     "metadata": {},
     "output_type": "execute_result"
    }
   ],
   "source": [
    "df_cat.head()\n"
   ]
  },
  {
   "cell_type": "markdown",
   "id": "b682955c",
   "metadata": {},
   "source": [
    "#### Imputing categorical Columns with \"NA\" and Numerical Columns with Median"
   ]
  },
  {
   "cell_type": "code",
   "execution_count": 106,
   "id": "9a1ef85a",
   "metadata": {},
   "outputs": [],
   "source": [
    "for cols in df_cat.columns :\n",
    "    df_cat[cols] = df_cat[cols].fillna(\"NA\")"
   ]
  },
  {
   "cell_type": "code",
   "execution_count": 107,
   "id": "52ce4c48",
   "metadata": {},
   "outputs": [
    {
     "data": {
      "text/plain": [
       "ProductCD        0\n",
       "card4            0\n",
       "card6            0\n",
       "P_emaildomain    0\n",
       "M1               0\n",
       "M2               0\n",
       "M3               0\n",
       "M4               0\n",
       "M5               0\n",
       "M6               0\n",
       "M7               0\n",
       "M8               0\n",
       "M9               0\n",
       "dtype: int64"
      ]
     },
     "execution_count": 107,
     "metadata": {},
     "output_type": "execute_result"
    }
   ],
   "source": [
    "df_cat.isna().sum()"
   ]
  },
  {
   "cell_type": "code",
   "execution_count": 108,
   "id": "9600d209",
   "metadata": {},
   "outputs": [],
   "source": [
    "dfna = (df_num.isnull().sum()) / df_cat.shape[0] \n",
    "\n",
    "for cols in df_num.columns :\n",
    "    if dfna[cols]:\n",
    "        df_num[cols] = df_num[cols].fillna(df_num[cols].median())"
   ]
  },
  {
   "cell_type": "code",
   "execution_count": 109,
   "id": "3f8ec960",
   "metadata": {},
   "outputs": [
    {
     "data": {
      "text/plain": [
       "TransactionID     0\n",
       "isFraud           0\n",
       "TransactionDT     0\n",
       "TransactionAmt    0\n",
       "card1             0\n",
       "                 ..\n",
       "V317              0\n",
       "V318              0\n",
       "V319              0\n",
       "V320              0\n",
       "V321              0\n",
       "Length: 213, dtype: int64"
      ]
     },
     "execution_count": 109,
     "metadata": {},
     "output_type": "execute_result"
    }
   ],
   "source": [
    "df_num.isna().sum()"
   ]
  },
  {
   "cell_type": "code",
   "execution_count": 110,
   "id": "8ddafbf4",
   "metadata": {
    "scrolled": true
   },
   "outputs": [
    {
     "data": {
      "text/html": [
       "<div>\n",
       "<style scoped>\n",
       "    .dataframe tbody tr th:only-of-type {\n",
       "        vertical-align: middle;\n",
       "    }\n",
       "\n",
       "    .dataframe tbody tr th {\n",
       "        vertical-align: top;\n",
       "    }\n",
       "\n",
       "    .dataframe thead th {\n",
       "        text-align: right;\n",
       "    }\n",
       "</style>\n",
       "<table border=\"1\" class=\"dataframe\">\n",
       "  <thead>\n",
       "    <tr style=\"text-align: right;\">\n",
       "      <th></th>\n",
       "      <th>TransactionID</th>\n",
       "      <th>isFraud</th>\n",
       "      <th>TransactionDT</th>\n",
       "      <th>TransactionAmt</th>\n",
       "      <th>card1</th>\n",
       "      <th>card2</th>\n",
       "      <th>card3</th>\n",
       "      <th>card5</th>\n",
       "      <th>addr1</th>\n",
       "      <th>addr2</th>\n",
       "      <th>...</th>\n",
       "      <th>P_emaildomain</th>\n",
       "      <th>M1</th>\n",
       "      <th>M2</th>\n",
       "      <th>M3</th>\n",
       "      <th>M4</th>\n",
       "      <th>M5</th>\n",
       "      <th>M6</th>\n",
       "      <th>M7</th>\n",
       "      <th>M8</th>\n",
       "      <th>M9</th>\n",
       "    </tr>\n",
       "  </thead>\n",
       "  <tbody>\n",
       "    <tr>\n",
       "      <th>0</th>\n",
       "      <td>3424175</td>\n",
       "      <td>0</td>\n",
       "      <td>11053717</td>\n",
       "      <td>49.00</td>\n",
       "      <td>5033</td>\n",
       "      <td>269.0</td>\n",
       "      <td>150.0</td>\n",
       "      <td>224.0</td>\n",
       "      <td>330.0</td>\n",
       "      <td>87.0</td>\n",
       "      <td>...</td>\n",
       "      <td>gmail.com</td>\n",
       "      <td>T</td>\n",
       "      <td>T</td>\n",
       "      <td>T</td>\n",
       "      <td>M0</td>\n",
       "      <td>T</td>\n",
       "      <td>F</td>\n",
       "      <td>NA</td>\n",
       "      <td>NA</td>\n",
       "      <td>NA</td>\n",
       "    </tr>\n",
       "    <tr>\n",
       "      <th>1</th>\n",
       "      <td>3206179</td>\n",
       "      <td>0</td>\n",
       "      <td>5150800</td>\n",
       "      <td>57.95</td>\n",
       "      <td>4527</td>\n",
       "      <td>376.0</td>\n",
       "      <td>150.0</td>\n",
       "      <td>226.0</td>\n",
       "      <td>441.0</td>\n",
       "      <td>87.0</td>\n",
       "      <td>...</td>\n",
       "      <td>gmail.com</td>\n",
       "      <td>NA</td>\n",
       "      <td>NA</td>\n",
       "      <td>NA</td>\n",
       "      <td>NA</td>\n",
       "      <td>NA</td>\n",
       "      <td>F</td>\n",
       "      <td>NA</td>\n",
       "      <td>NA</td>\n",
       "      <td>NA</td>\n",
       "    </tr>\n",
       "    <tr>\n",
       "      <th>2</th>\n",
       "      <td>3410455</td>\n",
       "      <td>0</td>\n",
       "      <td>10713596</td>\n",
       "      <td>115.95</td>\n",
       "      <td>2772</td>\n",
       "      <td>512.0</td>\n",
       "      <td>150.0</td>\n",
       "      <td>226.0</td>\n",
       "      <td>143.0</td>\n",
       "      <td>87.0</td>\n",
       "      <td>...</td>\n",
       "      <td>centurylink.net</td>\n",
       "      <td>T</td>\n",
       "      <td>T</td>\n",
       "      <td>T</td>\n",
       "      <td>NA</td>\n",
       "      <td>NA</td>\n",
       "      <td>T</td>\n",
       "      <td>F</td>\n",
       "      <td>F</td>\n",
       "      <td>T</td>\n",
       "    </tr>\n",
       "    <tr>\n",
       "      <th>3</th>\n",
       "      <td>3058578</td>\n",
       "      <td>0</td>\n",
       "      <td>1611950</td>\n",
       "      <td>100.00</td>\n",
       "      <td>14290</td>\n",
       "      <td>512.0</td>\n",
       "      <td>150.0</td>\n",
       "      <td>226.0</td>\n",
       "      <td>177.0</td>\n",
       "      <td>87.0</td>\n",
       "      <td>...</td>\n",
       "      <td>yahoo.com</td>\n",
       "      <td>NA</td>\n",
       "      <td>NA</td>\n",
       "      <td>NA</td>\n",
       "      <td>NA</td>\n",
       "      <td>NA</td>\n",
       "      <td>NA</td>\n",
       "      <td>NA</td>\n",
       "      <td>NA</td>\n",
       "      <td>NA</td>\n",
       "    </tr>\n",
       "    <tr>\n",
       "      <th>4</th>\n",
       "      <td>3242131</td>\n",
       "      <td>0</td>\n",
       "      <td>6111087</td>\n",
       "      <td>95.00</td>\n",
       "      <td>12839</td>\n",
       "      <td>321.0</td>\n",
       "      <td>150.0</td>\n",
       "      <td>226.0</td>\n",
       "      <td>220.0</td>\n",
       "      <td>87.0</td>\n",
       "      <td>...</td>\n",
       "      <td>gmail.com</td>\n",
       "      <td>T</td>\n",
       "      <td>T</td>\n",
       "      <td>T</td>\n",
       "      <td>M0</td>\n",
       "      <td>F</td>\n",
       "      <td>F</td>\n",
       "      <td>F</td>\n",
       "      <td>T</td>\n",
       "      <td>T</td>\n",
       "    </tr>\n",
       "    <tr>\n",
       "      <th>...</th>\n",
       "      <td>...</td>\n",
       "      <td>...</td>\n",
       "      <td>...</td>\n",
       "      <td>...</td>\n",
       "      <td>...</td>\n",
       "      <td>...</td>\n",
       "      <td>...</td>\n",
       "      <td>...</td>\n",
       "      <td>...</td>\n",
       "      <td>...</td>\n",
       "      <td>...</td>\n",
       "      <td>...</td>\n",
       "      <td>...</td>\n",
       "      <td>...</td>\n",
       "      <td>...</td>\n",
       "      <td>...</td>\n",
       "      <td>...</td>\n",
       "      <td>...</td>\n",
       "      <td>...</td>\n",
       "      <td>...</td>\n",
       "      <td>...</td>\n",
       "    </tr>\n",
       "    <tr>\n",
       "      <th>442900</th>\n",
       "      <td>3020019</td>\n",
       "      <td>0</td>\n",
       "      <td>832530</td>\n",
       "      <td>29.00</td>\n",
       "      <td>3277</td>\n",
       "      <td>111.0</td>\n",
       "      <td>150.0</td>\n",
       "      <td>226.0</td>\n",
       "      <td>231.0</td>\n",
       "      <td>87.0</td>\n",
       "      <td>...</td>\n",
       "      <td>gmail.com</td>\n",
       "      <td>NA</td>\n",
       "      <td>NA</td>\n",
       "      <td>NA</td>\n",
       "      <td>M0</td>\n",
       "      <td>T</td>\n",
       "      <td>F</td>\n",
       "      <td>NA</td>\n",
       "      <td>NA</td>\n",
       "      <td>NA</td>\n",
       "    </tr>\n",
       "    <tr>\n",
       "      <th>442901</th>\n",
       "      <td>3546388</td>\n",
       "      <td>0</td>\n",
       "      <td>14827575</td>\n",
       "      <td>97.00</td>\n",
       "      <td>18132</td>\n",
       "      <td>567.0</td>\n",
       "      <td>150.0</td>\n",
       "      <td>117.0</td>\n",
       "      <td>272.0</td>\n",
       "      <td>87.0</td>\n",
       "      <td>...</td>\n",
       "      <td>NA</td>\n",
       "      <td>T</td>\n",
       "      <td>T</td>\n",
       "      <td>T</td>\n",
       "      <td>M0</td>\n",
       "      <td>T</td>\n",
       "      <td>F</td>\n",
       "      <td>NA</td>\n",
       "      <td>NA</td>\n",
       "      <td>NA</td>\n",
       "    </tr>\n",
       "    <tr>\n",
       "      <th>442902</th>\n",
       "      <td>3087445</td>\n",
       "      <td>0</td>\n",
       "      <td>2036666</td>\n",
       "      <td>100.00</td>\n",
       "      <td>6019</td>\n",
       "      <td>583.0</td>\n",
       "      <td>150.0</td>\n",
       "      <td>226.0</td>\n",
       "      <td>441.0</td>\n",
       "      <td>87.0</td>\n",
       "      <td>...</td>\n",
       "      <td>gmail.com</td>\n",
       "      <td>NA</td>\n",
       "      <td>NA</td>\n",
       "      <td>NA</td>\n",
       "      <td>NA</td>\n",
       "      <td>NA</td>\n",
       "      <td>NA</td>\n",
       "      <td>NA</td>\n",
       "      <td>NA</td>\n",
       "      <td>NA</td>\n",
       "    </tr>\n",
       "    <tr>\n",
       "      <th>442903</th>\n",
       "      <td>3066953</td>\n",
       "      <td>0</td>\n",
       "      <td>1724427</td>\n",
       "      <td>25.00</td>\n",
       "      <td>10737</td>\n",
       "      <td>399.0</td>\n",
       "      <td>150.0</td>\n",
       "      <td>118.0</td>\n",
       "      <td>204.0</td>\n",
       "      <td>87.0</td>\n",
       "      <td>...</td>\n",
       "      <td>gmail.com</td>\n",
       "      <td>NA</td>\n",
       "      <td>NA</td>\n",
       "      <td>NA</td>\n",
       "      <td>NA</td>\n",
       "      <td>NA</td>\n",
       "      <td>NA</td>\n",
       "      <td>NA</td>\n",
       "      <td>NA</td>\n",
       "      <td>NA</td>\n",
       "    </tr>\n",
       "    <tr>\n",
       "      <th>442904</th>\n",
       "      <td>3505849</td>\n",
       "      <td>0</td>\n",
       "      <td>13621776</td>\n",
       "      <td>50.00</td>\n",
       "      <td>6019</td>\n",
       "      <td>583.0</td>\n",
       "      <td>150.0</td>\n",
       "      <td>226.0</td>\n",
       "      <td>264.0</td>\n",
       "      <td>87.0</td>\n",
       "      <td>...</td>\n",
       "      <td>NA</td>\n",
       "      <td>NA</td>\n",
       "      <td>NA</td>\n",
       "      <td>NA</td>\n",
       "      <td>NA</td>\n",
       "      <td>NA</td>\n",
       "      <td>NA</td>\n",
       "      <td>NA</td>\n",
       "      <td>NA</td>\n",
       "      <td>NA</td>\n",
       "    </tr>\n",
       "  </tbody>\n",
       "</table>\n",
       "<p>442905 rows × 226 columns</p>\n",
       "</div>"
      ],
      "text/plain": [
       "        TransactionID  isFraud  TransactionDT  TransactionAmt  card1  card2  \\\n",
       "0             3424175        0       11053717           49.00   5033  269.0   \n",
       "1             3206179        0        5150800           57.95   4527  376.0   \n",
       "2             3410455        0       10713596          115.95   2772  512.0   \n",
       "3             3058578        0        1611950          100.00  14290  512.0   \n",
       "4             3242131        0        6111087           95.00  12839  321.0   \n",
       "...               ...      ...            ...             ...    ...    ...   \n",
       "442900        3020019        0         832530           29.00   3277  111.0   \n",
       "442901        3546388        0       14827575           97.00  18132  567.0   \n",
       "442902        3087445        0        2036666          100.00   6019  583.0   \n",
       "442903        3066953        0        1724427           25.00  10737  399.0   \n",
       "442904        3505849        0       13621776           50.00   6019  583.0   \n",
       "\n",
       "        card3  card5  addr1  addr2  ...    P_emaildomain  M1  M2  M3  M4  M5  \\\n",
       "0       150.0  224.0  330.0   87.0  ...        gmail.com   T   T   T  M0   T   \n",
       "1       150.0  226.0  441.0   87.0  ...        gmail.com  NA  NA  NA  NA  NA   \n",
       "2       150.0  226.0  143.0   87.0  ...  centurylink.net   T   T   T  NA  NA   \n",
       "3       150.0  226.0  177.0   87.0  ...        yahoo.com  NA  NA  NA  NA  NA   \n",
       "4       150.0  226.0  220.0   87.0  ...        gmail.com   T   T   T  M0   F   \n",
       "...       ...    ...    ...    ...  ...              ...  ..  ..  ..  ..  ..   \n",
       "442900  150.0  226.0  231.0   87.0  ...        gmail.com  NA  NA  NA  M0   T   \n",
       "442901  150.0  117.0  272.0   87.0  ...               NA   T   T   T  M0   T   \n",
       "442902  150.0  226.0  441.0   87.0  ...        gmail.com  NA  NA  NA  NA  NA   \n",
       "442903  150.0  118.0  204.0   87.0  ...        gmail.com  NA  NA  NA  NA  NA   \n",
       "442904  150.0  226.0  264.0   87.0  ...               NA  NA  NA  NA  NA  NA   \n",
       "\n",
       "        M6  M7  M8  M9  \n",
       "0        F  NA  NA  NA  \n",
       "1        F  NA  NA  NA  \n",
       "2        T   F   F   T  \n",
       "3       NA  NA  NA  NA  \n",
       "4        F   F   T   T  \n",
       "...     ..  ..  ..  ..  \n",
       "442900   F  NA  NA  NA  \n",
       "442901   F  NA  NA  NA  \n",
       "442902  NA  NA  NA  NA  \n",
       "442903  NA  NA  NA  NA  \n",
       "442904  NA  NA  NA  NA  \n",
       "\n",
       "[442905 rows x 226 columns]"
      ]
     },
     "execution_count": 110,
     "metadata": {},
     "output_type": "execute_result"
    }
   ],
   "source": [
    "newdf=pd.concat([df_num,df_cat],axis=1)\n",
    "newdf"
   ]
  },
  {
   "cell_type": "code",
   "execution_count": 111,
   "id": "dac3b360",
   "metadata": {},
   "outputs": [],
   "source": [
    "# sns.heatmap(newdf.isna())"
   ]
  },
  {
   "cell_type": "code",
   "execution_count": 112,
   "id": "c328bae4",
   "metadata": {
    "scrolled": false
   },
   "outputs": [
    {
     "data": {
      "text/plain": [
       "TransactionID     0\n",
       "isFraud           0\n",
       "TransactionDT     0\n",
       "TransactionAmt    0\n",
       "card1             0\n",
       "                 ..\n",
       "M5                0\n",
       "M6                0\n",
       "M7                0\n",
       "M8                0\n",
       "M9                0\n",
       "Length: 226, dtype: int64"
      ]
     },
     "execution_count": 112,
     "metadata": {},
     "output_type": "execute_result"
    }
   ],
   "source": [
    "newdf.isna().sum()"
   ]
  },
  {
   "cell_type": "markdown",
   "id": "53f3fc6f",
   "metadata": {},
   "source": [
    "#### One Hot Encoding upon categorical columns"
   ]
  },
  {
   "cell_type": "code",
   "execution_count": 113,
   "id": "95753fbf",
   "metadata": {},
   "outputs": [],
   "source": [
    "ohe_data = pd.get_dummies(newdf, columns = ['ProductCD','card4','card6','P_emaildomain','M1','M2','M3','M4','M5','M6','M7','M8','M9'])\n",
    "one_hot_encoded_data = ohe_data"
   ]
  },
  {
   "cell_type": "code",
   "execution_count": 114,
   "id": "cfd145ca",
   "metadata": {},
   "outputs": [
    {
     "data": {
      "text/html": [
       "<div>\n",
       "<style scoped>\n",
       "    .dataframe tbody tr th:only-of-type {\n",
       "        vertical-align: middle;\n",
       "    }\n",
       "\n",
       "    .dataframe tbody tr th {\n",
       "        vertical-align: top;\n",
       "    }\n",
       "\n",
       "    .dataframe thead th {\n",
       "        text-align: right;\n",
       "    }\n",
       "</style>\n",
       "<table border=\"1\" class=\"dataframe\">\n",
       "  <thead>\n",
       "    <tr style=\"text-align: right;\">\n",
       "      <th></th>\n",
       "      <th>TransactionID</th>\n",
       "      <th>isFraud</th>\n",
       "      <th>TransactionDT</th>\n",
       "      <th>TransactionAmt</th>\n",
       "      <th>card1</th>\n",
       "      <th>card2</th>\n",
       "      <th>card3</th>\n",
       "      <th>card5</th>\n",
       "      <th>addr1</th>\n",
       "      <th>addr2</th>\n",
       "      <th>...</th>\n",
       "      <th>M6_T</th>\n",
       "      <th>M7_F</th>\n",
       "      <th>M7_NA</th>\n",
       "      <th>M7_T</th>\n",
       "      <th>M8_F</th>\n",
       "      <th>M8_NA</th>\n",
       "      <th>M8_T</th>\n",
       "      <th>M9_F</th>\n",
       "      <th>M9_NA</th>\n",
       "      <th>M9_T</th>\n",
       "    </tr>\n",
       "  </thead>\n",
       "  <tbody>\n",
       "    <tr>\n",
       "      <th>0</th>\n",
       "      <td>3424175</td>\n",
       "      <td>0</td>\n",
       "      <td>11053717</td>\n",
       "      <td>49.00</td>\n",
       "      <td>5033</td>\n",
       "      <td>269.0</td>\n",
       "      <td>150.0</td>\n",
       "      <td>224.0</td>\n",
       "      <td>330.0</td>\n",
       "      <td>87.0</td>\n",
       "      <td>...</td>\n",
       "      <td>0</td>\n",
       "      <td>0</td>\n",
       "      <td>1</td>\n",
       "      <td>0</td>\n",
       "      <td>0</td>\n",
       "      <td>1</td>\n",
       "      <td>0</td>\n",
       "      <td>0</td>\n",
       "      <td>1</td>\n",
       "      <td>0</td>\n",
       "    </tr>\n",
       "    <tr>\n",
       "      <th>1</th>\n",
       "      <td>3206179</td>\n",
       "      <td>0</td>\n",
       "      <td>5150800</td>\n",
       "      <td>57.95</td>\n",
       "      <td>4527</td>\n",
       "      <td>376.0</td>\n",
       "      <td>150.0</td>\n",
       "      <td>226.0</td>\n",
       "      <td>441.0</td>\n",
       "      <td>87.0</td>\n",
       "      <td>...</td>\n",
       "      <td>0</td>\n",
       "      <td>0</td>\n",
       "      <td>1</td>\n",
       "      <td>0</td>\n",
       "      <td>0</td>\n",
       "      <td>1</td>\n",
       "      <td>0</td>\n",
       "      <td>0</td>\n",
       "      <td>1</td>\n",
       "      <td>0</td>\n",
       "    </tr>\n",
       "    <tr>\n",
       "      <th>2</th>\n",
       "      <td>3410455</td>\n",
       "      <td>0</td>\n",
       "      <td>10713596</td>\n",
       "      <td>115.95</td>\n",
       "      <td>2772</td>\n",
       "      <td>512.0</td>\n",
       "      <td>150.0</td>\n",
       "      <td>226.0</td>\n",
       "      <td>143.0</td>\n",
       "      <td>87.0</td>\n",
       "      <td>...</td>\n",
       "      <td>1</td>\n",
       "      <td>1</td>\n",
       "      <td>0</td>\n",
       "      <td>0</td>\n",
       "      <td>1</td>\n",
       "      <td>0</td>\n",
       "      <td>0</td>\n",
       "      <td>0</td>\n",
       "      <td>0</td>\n",
       "      <td>1</td>\n",
       "    </tr>\n",
       "    <tr>\n",
       "      <th>3</th>\n",
       "      <td>3058578</td>\n",
       "      <td>0</td>\n",
       "      <td>1611950</td>\n",
       "      <td>100.00</td>\n",
       "      <td>14290</td>\n",
       "      <td>512.0</td>\n",
       "      <td>150.0</td>\n",
       "      <td>226.0</td>\n",
       "      <td>177.0</td>\n",
       "      <td>87.0</td>\n",
       "      <td>...</td>\n",
       "      <td>0</td>\n",
       "      <td>0</td>\n",
       "      <td>1</td>\n",
       "      <td>0</td>\n",
       "      <td>0</td>\n",
       "      <td>1</td>\n",
       "      <td>0</td>\n",
       "      <td>0</td>\n",
       "      <td>1</td>\n",
       "      <td>0</td>\n",
       "    </tr>\n",
       "    <tr>\n",
       "      <th>4</th>\n",
       "      <td>3242131</td>\n",
       "      <td>0</td>\n",
       "      <td>6111087</td>\n",
       "      <td>95.00</td>\n",
       "      <td>12839</td>\n",
       "      <td>321.0</td>\n",
       "      <td>150.0</td>\n",
       "      <td>226.0</td>\n",
       "      <td>220.0</td>\n",
       "      <td>87.0</td>\n",
       "      <td>...</td>\n",
       "      <td>0</td>\n",
       "      <td>1</td>\n",
       "      <td>0</td>\n",
       "      <td>0</td>\n",
       "      <td>0</td>\n",
       "      <td>0</td>\n",
       "      <td>1</td>\n",
       "      <td>0</td>\n",
       "      <td>0</td>\n",
       "      <td>1</td>\n",
       "    </tr>\n",
       "    <tr>\n",
       "      <th>...</th>\n",
       "      <td>...</td>\n",
       "      <td>...</td>\n",
       "      <td>...</td>\n",
       "      <td>...</td>\n",
       "      <td>...</td>\n",
       "      <td>...</td>\n",
       "      <td>...</td>\n",
       "      <td>...</td>\n",
       "      <td>...</td>\n",
       "      <td>...</td>\n",
       "      <td>...</td>\n",
       "      <td>...</td>\n",
       "      <td>...</td>\n",
       "      <td>...</td>\n",
       "      <td>...</td>\n",
       "      <td>...</td>\n",
       "      <td>...</td>\n",
       "      <td>...</td>\n",
       "      <td>...</td>\n",
       "      <td>...</td>\n",
       "      <td>...</td>\n",
       "    </tr>\n",
       "    <tr>\n",
       "      <th>442900</th>\n",
       "      <td>3020019</td>\n",
       "      <td>0</td>\n",
       "      <td>832530</td>\n",
       "      <td>29.00</td>\n",
       "      <td>3277</td>\n",
       "      <td>111.0</td>\n",
       "      <td>150.0</td>\n",
       "      <td>226.0</td>\n",
       "      <td>231.0</td>\n",
       "      <td>87.0</td>\n",
       "      <td>...</td>\n",
       "      <td>0</td>\n",
       "      <td>0</td>\n",
       "      <td>1</td>\n",
       "      <td>0</td>\n",
       "      <td>0</td>\n",
       "      <td>1</td>\n",
       "      <td>0</td>\n",
       "      <td>0</td>\n",
       "      <td>1</td>\n",
       "      <td>0</td>\n",
       "    </tr>\n",
       "    <tr>\n",
       "      <th>442901</th>\n",
       "      <td>3546388</td>\n",
       "      <td>0</td>\n",
       "      <td>14827575</td>\n",
       "      <td>97.00</td>\n",
       "      <td>18132</td>\n",
       "      <td>567.0</td>\n",
       "      <td>150.0</td>\n",
       "      <td>117.0</td>\n",
       "      <td>272.0</td>\n",
       "      <td>87.0</td>\n",
       "      <td>...</td>\n",
       "      <td>0</td>\n",
       "      <td>0</td>\n",
       "      <td>1</td>\n",
       "      <td>0</td>\n",
       "      <td>0</td>\n",
       "      <td>1</td>\n",
       "      <td>0</td>\n",
       "      <td>0</td>\n",
       "      <td>1</td>\n",
       "      <td>0</td>\n",
       "    </tr>\n",
       "    <tr>\n",
       "      <th>442902</th>\n",
       "      <td>3087445</td>\n",
       "      <td>0</td>\n",
       "      <td>2036666</td>\n",
       "      <td>100.00</td>\n",
       "      <td>6019</td>\n",
       "      <td>583.0</td>\n",
       "      <td>150.0</td>\n",
       "      <td>226.0</td>\n",
       "      <td>441.0</td>\n",
       "      <td>87.0</td>\n",
       "      <td>...</td>\n",
       "      <td>0</td>\n",
       "      <td>0</td>\n",
       "      <td>1</td>\n",
       "      <td>0</td>\n",
       "      <td>0</td>\n",
       "      <td>1</td>\n",
       "      <td>0</td>\n",
       "      <td>0</td>\n",
       "      <td>1</td>\n",
       "      <td>0</td>\n",
       "    </tr>\n",
       "    <tr>\n",
       "      <th>442903</th>\n",
       "      <td>3066953</td>\n",
       "      <td>0</td>\n",
       "      <td>1724427</td>\n",
       "      <td>25.00</td>\n",
       "      <td>10737</td>\n",
       "      <td>399.0</td>\n",
       "      <td>150.0</td>\n",
       "      <td>118.0</td>\n",
       "      <td>204.0</td>\n",
       "      <td>87.0</td>\n",
       "      <td>...</td>\n",
       "      <td>0</td>\n",
       "      <td>0</td>\n",
       "      <td>1</td>\n",
       "      <td>0</td>\n",
       "      <td>0</td>\n",
       "      <td>1</td>\n",
       "      <td>0</td>\n",
       "      <td>0</td>\n",
       "      <td>1</td>\n",
       "      <td>0</td>\n",
       "    </tr>\n",
       "    <tr>\n",
       "      <th>442904</th>\n",
       "      <td>3505849</td>\n",
       "      <td>0</td>\n",
       "      <td>13621776</td>\n",
       "      <td>50.00</td>\n",
       "      <td>6019</td>\n",
       "      <td>583.0</td>\n",
       "      <td>150.0</td>\n",
       "      <td>226.0</td>\n",
       "      <td>264.0</td>\n",
       "      <td>87.0</td>\n",
       "      <td>...</td>\n",
       "      <td>0</td>\n",
       "      <td>0</td>\n",
       "      <td>1</td>\n",
       "      <td>0</td>\n",
       "      <td>0</td>\n",
       "      <td>1</td>\n",
       "      <td>0</td>\n",
       "      <td>0</td>\n",
       "      <td>1</td>\n",
       "      <td>0</td>\n",
       "    </tr>\n",
       "  </tbody>\n",
       "</table>\n",
       "<p>442905 rows × 316 columns</p>\n",
       "</div>"
      ],
      "text/plain": [
       "        TransactionID  isFraud  TransactionDT  TransactionAmt  card1  card2  \\\n",
       "0             3424175        0       11053717           49.00   5033  269.0   \n",
       "1             3206179        0        5150800           57.95   4527  376.0   \n",
       "2             3410455        0       10713596          115.95   2772  512.0   \n",
       "3             3058578        0        1611950          100.00  14290  512.0   \n",
       "4             3242131        0        6111087           95.00  12839  321.0   \n",
       "...               ...      ...            ...             ...    ...    ...   \n",
       "442900        3020019        0         832530           29.00   3277  111.0   \n",
       "442901        3546388        0       14827575           97.00  18132  567.0   \n",
       "442902        3087445        0        2036666          100.00   6019  583.0   \n",
       "442903        3066953        0        1724427           25.00  10737  399.0   \n",
       "442904        3505849        0       13621776           50.00   6019  583.0   \n",
       "\n",
       "        card3  card5  addr1  addr2  ...  M6_T  M7_F  M7_NA  M7_T  M8_F  M8_NA  \\\n",
       "0       150.0  224.0  330.0   87.0  ...     0     0      1     0     0      1   \n",
       "1       150.0  226.0  441.0   87.0  ...     0     0      1     0     0      1   \n",
       "2       150.0  226.0  143.0   87.0  ...     1     1      0     0     1      0   \n",
       "3       150.0  226.0  177.0   87.0  ...     0     0      1     0     0      1   \n",
       "4       150.0  226.0  220.0   87.0  ...     0     1      0     0     0      0   \n",
       "...       ...    ...    ...    ...  ...   ...   ...    ...   ...   ...    ...   \n",
       "442900  150.0  226.0  231.0   87.0  ...     0     0      1     0     0      1   \n",
       "442901  150.0  117.0  272.0   87.0  ...     0     0      1     0     0      1   \n",
       "442902  150.0  226.0  441.0   87.0  ...     0     0      1     0     0      1   \n",
       "442903  150.0  118.0  204.0   87.0  ...     0     0      1     0     0      1   \n",
       "442904  150.0  226.0  264.0   87.0  ...     0     0      1     0     0      1   \n",
       "\n",
       "        M8_T  M9_F  M9_NA  M9_T  \n",
       "0          0     0      1     0  \n",
       "1          0     0      1     0  \n",
       "2          0     0      0     1  \n",
       "3          0     0      1     0  \n",
       "4          1     0      0     1  \n",
       "...      ...   ...    ...   ...  \n",
       "442900     0     0      1     0  \n",
       "442901     0     0      1     0  \n",
       "442902     0     0      1     0  \n",
       "442903     0     0      1     0  \n",
       "442904     0     0      1     0  \n",
       "\n",
       "[442905 rows x 316 columns]"
      ]
     },
     "execution_count": 114,
     "metadata": {},
     "output_type": "execute_result"
    }
   ],
   "source": [
    "one_hot_encoded_data"
   ]
  },
  {
   "cell_type": "markdown",
   "id": "87de77ba",
   "metadata": {},
   "source": [
    "# Exploratory Data Analysis\n"
   ]
  },
  {
   "cell_type": "code",
   "execution_count": 115,
   "id": "7d7a7061",
   "metadata": {},
   "outputs": [
    {
     "data": {
      "text/plain": [
       "<AxesSubplot:xlabel='isFraud', ylabel='count'>"
      ]
     },
     "execution_count": 115,
     "metadata": {},
     "output_type": "execute_result"
    },
    {
     "data": {
      "image/png": "[encoded data removed]",
      "text/plain": [
       "<Figure size 200x300 with 1 Axes>"
      ]
     },
     "metadata": {},
     "output_type": "display_data"
    }
   ],
   "source": [
    "plt.figure(figsize = (2,3))\n",
    "sns.countplot(x = newdf['isFraud'], orient = \"V\")"
   ]
  },
  {
   "cell_type": "markdown",
   "id": "d14c1ec2",
   "metadata": {},
   "source": [
    "#### Data Analysis of time of Fraud\n"
   ]
  },
  {
   "cell_type": "code",
   "execution_count": 116,
   "id": "782e657e",
   "metadata": {},
   "outputs": [],
   "source": [
    "\n",
    "no_of_seconds_hour = 3600\n",
    "no_of_seconds_day = 24 * no_of_seconds_hour\n",
    "no_of_seconds_week = 7 * no_of_seconds_day \n",
    "no_of_seconds_month = 30 * no_of_seconds_day\n",
    "\n",
    "transactions_per_hour = (newdf['TransactionDT'] % no_of_seconds_day) / no_of_seconds_hour\n",
    "transactions_per_week = (newdf['TransactionDT'] / no_of_seconds_week) % 7\n",
    "transactions_per_month = newdf['TransactionDT'] / no_of_seconds_month\n",
    "newdf_ = newdf[newdf['isFraud'] == 1]\n",
    "\n",
    "transactions_per_hour_f = (newdf_['TransactionDT'] % no_of_seconds_day) / no_of_seconds_hour\n",
    "transactions_per_week_f= (newdf_['TransactionDT'] / no_of_seconds_week) % 7\n",
    "transactions_per_month_f = newdf_['TransactionDT'] / no_of_seconds_month"
   ]
  },
  {
   "cell_type": "code",
   "execution_count": 117,
   "id": "f3281e25",
   "metadata": {
    "scrolled": false
   },
   "outputs": [
    {
     "data": {
      "image/png": "[encoded data removed]",
      "text/plain": [
       "<Figure size 500x300 with 1 Axes>"
      ]
     },
     "metadata": {},
     "output_type": "display_data"
    },
    {
     "data": {
      "image/png": "[encoded data removed]",
      "text/plain": [
       "<Figure size 500x300 with 1 Axes>"
      ]
     },
     "metadata": {},
     "output_type": "display_data"
    },
    {
     "data": {
      "image/png": "[encoded data removed]",
      "text/plain": [
       "<Figure size 500x300 with 1 Axes>"
      ]
     },
     "metadata": {},
     "output_type": "display_data"
    }
   ],
   "source": [
    "plt.figure(figsize= (5,3))\n",
    "plt.title(\"Hours in a day(1-24)\")\n",
    "plt.ylabel('Count of transactions')\n",
    "# plt.xlabel('Hours in a day(0-24)')\n",
    "# plt.hist(transactions_per_hour, bins=24, )\n",
    "plt.hist(transactions_per_hour_f, bins=24,  rwidth=0.7)\n",
    "\n",
    "plt.show()\n",
    "\n",
    "plt.figure(figsize= (5,3))\n",
    "plt.title(\"weekly(1-7)\")\n",
    "plt.ylabel('Count of transactions')\n",
    "# plt.xlabel('Hours in a day(0-24)')\n",
    "plt.hist(transactions_per_week_f, bins=7,  rwidth=0.7)\n",
    "plt.show()\n",
    "\n",
    "plt.figure(figsize= (5,3))\n",
    "plt.title(\"months(1-6)\")\n",
    "plt.ylabel('Count of transactions')\n",
    "# plt.xlabel('Hours in a day(0-24)')\n",
    "plt.hist(transactions_per_month_f, bins=6,  rwidth=0.7)\n",
    "plt.show()\n"
   ]
  },
  {
   "cell_type": "markdown",
   "id": "73be0b2d",
   "metadata": {},
   "source": [
    "#### 3. Co-relation Matrix"
   ]
  },
  {
   "cell_type": "code",
   "execution_count": 118,
   "id": "094a3e8f",
   "metadata": {
    "scrolled": true
   },
   "outputs": [],
   "source": [
    "# corr_mat = ohe_data.corr().abs()\n"
   ]
  },
  {
   "cell_type": "code",
   "execution_count": 119,
   "id": "5bfc38ae",
   "metadata": {},
   "outputs": [],
   "source": [
    "# corr_mat = corr_mat.drop(['TransactionID'])\n"
   ]
  },
  {
   "cell_type": "code",
   "execution_count": 120,
   "id": "7ebe5717",
   "metadata": {},
   "outputs": [],
   "source": [
    "# corr_mat.isFraud.sort_values(ascending = False).head(20)\n"
   ]
  },
  {
   "cell_type": "code",
   "execution_count": 121,
   "id": "f0b42a04",
   "metadata": {},
   "outputs": [],
   "source": [
    "# plt.figure(figsize = (80,80))\n",
    "# sns.heatmap(corr_mat)"
   ]
  },
  {
   "cell_type": "code",
   "execution_count": 122,
   "id": "13c86abc",
   "metadata": {},
   "outputs": [
    {
     "data": {
      "image/png": "[encoded data removed]",
      "text/plain": [
       "<Figure size 640x480 with 1 Axes>"
      ]
     },
     "metadata": {},
     "output_type": "display_data"
    },
    {
     "data": {
      "image/png": "[encoded data removed]",
      "text/plain": [
       "<Figure size 640x480 with 1 Axes>"
      ]
     },
     "metadata": {},
     "output_type": "display_data"
    }
   ],
   "source": [
    "ind = list(range(0, newdf_.shape[0]))\n",
    "\n",
    "plt.scatter(np.array(newdf_['TransactionAmt']), ind)\n",
    "\n",
    "plt.show()\n",
    "plt.xlabel('Count of transactions')\n",
    "plt.ylabel('Transaction Amount')\n",
    "\n",
    "\n",
    "plt.hist(newdf_['TransactionAmt'], bins = 10, rwidth=0.7)\n",
    "plt.show()"
   ]
  },
  {
   "cell_type": "code",
   "execution_count": 123,
   "id": "478b77a6",
   "metadata": {},
   "outputs": [
    {
     "data": {
      "text/html": [
       "<div>\n",
       "<style scoped>\n",
       "    .dataframe tbody tr th:only-of-type {\n",
       "        vertical-align: middle;\n",
       "    }\n",
       "\n",
       "    .dataframe tbody tr th {\n",
       "        vertical-align: top;\n",
       "    }\n",
       "\n",
       "    .dataframe thead th {\n",
       "        text-align: right;\n",
       "    }\n",
       "</style>\n",
       "<table border=\"1\" class=\"dataframe\">\n",
       "  <thead>\n",
       "    <tr style=\"text-align: right;\">\n",
       "      <th></th>\n",
       "      <th>TransactionID</th>\n",
       "      <th>isFraud</th>\n",
       "      <th>TransactionDT</th>\n",
       "      <th>TransactionAmt</th>\n",
       "      <th>card1</th>\n",
       "      <th>card2</th>\n",
       "      <th>card3</th>\n",
       "      <th>card5</th>\n",
       "      <th>addr1</th>\n",
       "      <th>addr2</th>\n",
       "      <th>...</th>\n",
       "      <th>V312</th>\n",
       "      <th>V313</th>\n",
       "      <th>V314</th>\n",
       "      <th>V315</th>\n",
       "      <th>V316</th>\n",
       "      <th>V317</th>\n",
       "      <th>V318</th>\n",
       "      <th>V319</th>\n",
       "      <th>V320</th>\n",
       "      <th>V321</th>\n",
       "    </tr>\n",
       "  </thead>\n",
       "  <tbody>\n",
       "    <tr>\n",
       "      <th>count</th>\n",
       "      <td>1.549700e+04</td>\n",
       "      <td>15497.0</td>\n",
       "      <td>1.549700e+04</td>\n",
       "      <td>15497.000000</td>\n",
       "      <td>15497.000000</td>\n",
       "      <td>15497.000000</td>\n",
       "      <td>15497.000000</td>\n",
       "      <td>15497.000000</td>\n",
       "      <td>15497.000000</td>\n",
       "      <td>15497.000000</td>\n",
       "      <td>...</td>\n",
       "      <td>15497.000000</td>\n",
       "      <td>15497.000000</td>\n",
       "      <td>15497.000000</td>\n",
       "      <td>15497.000000</td>\n",
       "      <td>15497.000000</td>\n",
       "      <td>15497.000000</td>\n",
       "      <td>15497.000000</td>\n",
       "      <td>15497.000000</td>\n",
       "      <td>15497.000000</td>\n",
       "      <td>15497.000000</td>\n",
       "    </tr>\n",
       "    <tr>\n",
       "      <th>mean</th>\n",
       "      <td>3.293107e+06</td>\n",
       "      <td>1.0</td>\n",
       "      <td>7.640973e+06</td>\n",
       "      <td>149.039159</td>\n",
       "      <td>9518.917661</td>\n",
       "      <td>365.402271</td>\n",
       "      <td>162.299413</td>\n",
       "      <td>192.199264</td>\n",
       "      <td>296.116216</td>\n",
       "      <td>86.575853</td>\n",
       "      <td>...</td>\n",
       "      <td>71.467779</td>\n",
       "      <td>41.443217</td>\n",
       "      <td>77.500084</td>\n",
       "      <td>55.648887</td>\n",
       "      <td>73.653187</td>\n",
       "      <td>346.821854</td>\n",
       "      <td>174.840761</td>\n",
       "      <td>17.844369</td>\n",
       "      <td>52.519351</td>\n",
       "      <td>30.435826</td>\n",
       "    </tr>\n",
       "    <tr>\n",
       "      <th>std</th>\n",
       "      <td>1.624598e+05</td>\n",
       "      <td>0.0</td>\n",
       "      <td>4.425245e+06</td>\n",
       "      <td>232.199546</td>\n",
       "      <td>4774.694104</td>\n",
       "      <td>157.740175</td>\n",
       "      <td>17.451535</td>\n",
       "      <td>45.778838</td>\n",
       "      <td>82.601107</td>\n",
       "      <td>3.812316</td>\n",
       "      <td>...</td>\n",
       "      <td>219.047248</td>\n",
       "      <td>138.959968</td>\n",
       "      <td>257.300337</td>\n",
       "      <td>185.096706</td>\n",
       "      <td>342.620212</td>\n",
       "      <td>2854.098940</td>\n",
       "      <td>887.550285</td>\n",
       "      <td>119.670214</td>\n",
       "      <td>297.613736</td>\n",
       "      <td>172.183295</td>\n",
       "    </tr>\n",
       "    <tr>\n",
       "      <th>min</th>\n",
       "      <td>2.987240e+06</td>\n",
       "      <td>1.0</td>\n",
       "      <td>9.019300e+04</td>\n",
       "      <td>0.292000</td>\n",
       "      <td>1015.000000</td>\n",
       "      <td>100.000000</td>\n",
       "      <td>100.000000</td>\n",
       "      <td>100.000000</td>\n",
       "      <td>110.000000</td>\n",
       "      <td>10.000000</td>\n",
       "      <td>...</td>\n",
       "      <td>0.000000</td>\n",
       "      <td>0.000000</td>\n",
       "      <td>0.000000</td>\n",
       "      <td>0.000000</td>\n",
       "      <td>0.000000</td>\n",
       "      <td>0.000000</td>\n",
       "      <td>0.000000</td>\n",
       "      <td>0.000000</td>\n",
       "      <td>0.000000</td>\n",
       "      <td>0.000000</td>\n",
       "    </tr>\n",
       "    <tr>\n",
       "      <th>25%</th>\n",
       "      <td>3.165371e+06</td>\n",
       "      <td>1.0</td>\n",
       "      <td>3.885273e+06</td>\n",
       "      <td>35.412000</td>\n",
       "      <td>5680.000000</td>\n",
       "      <td>206.000000</td>\n",
       "      <td>150.000000</td>\n",
       "      <td>138.000000</td>\n",
       "      <td>269.000000</td>\n",
       "      <td>87.000000</td>\n",
       "      <td>...</td>\n",
       "      <td>0.000000</td>\n",
       "      <td>0.000000</td>\n",
       "      <td>0.000000</td>\n",
       "      <td>0.000000</td>\n",
       "      <td>0.000000</td>\n",
       "      <td>0.000000</td>\n",
       "      <td>0.000000</td>\n",
       "      <td>0.000000</td>\n",
       "      <td>0.000000</td>\n",
       "      <td>0.000000</td>\n",
       "    </tr>\n",
       "    <tr>\n",
       "      <th>50%</th>\n",
       "      <td>3.288979e+06</td>\n",
       "      <td>1.0</td>\n",
       "      <td>7.457992e+06</td>\n",
       "      <td>75.000000</td>\n",
       "      <td>9633.000000</td>\n",
       "      <td>375.000000</td>\n",
       "      <td>150.000000</td>\n",
       "      <td>224.000000</td>\n",
       "      <td>299.000000</td>\n",
       "      <td>87.000000</td>\n",
       "      <td>...</td>\n",
       "      <td>0.000000</td>\n",
       "      <td>0.000000</td>\n",
       "      <td>0.000000</td>\n",
       "      <td>0.000000</td>\n",
       "      <td>0.000000</td>\n",
       "      <td>0.000000</td>\n",
       "      <td>0.000000</td>\n",
       "      <td>0.000000</td>\n",
       "      <td>0.000000</td>\n",
       "      <td>0.000000</td>\n",
       "    </tr>\n",
       "    <tr>\n",
       "      <th>75%</th>\n",
       "      <td>3.428441e+06</td>\n",
       "      <td>1.0</td>\n",
       "      <td>1.121365e+07</td>\n",
       "      <td>161.000000</td>\n",
       "      <td>13623.000000</td>\n",
       "      <td>514.000000</td>\n",
       "      <td>185.000000</td>\n",
       "      <td>226.000000</td>\n",
       "      <td>324.000000</td>\n",
       "      <td>87.000000</td>\n",
       "      <td>...</td>\n",
       "      <td>30.000000</td>\n",
       "      <td>0.000000</td>\n",
       "      <td>0.000000</td>\n",
       "      <td>0.000000</td>\n",
       "      <td>0.000000</td>\n",
       "      <td>62.111801</td>\n",
       "      <td>25.738899</td>\n",
       "      <td>0.000000</td>\n",
       "      <td>0.000000</td>\n",
       "      <td>0.000000</td>\n",
       "    </tr>\n",
       "    <tr>\n",
       "      <th>max</th>\n",
       "      <td>3.577526e+06</td>\n",
       "      <td>1.0</td>\n",
       "      <td>1.581088e+07</td>\n",
       "      <td>5191.000000</td>\n",
       "      <td>18375.000000</td>\n",
       "      <td>600.000000</td>\n",
       "      <td>231.000000</td>\n",
       "      <td>237.000000</td>\n",
       "      <td>536.000000</td>\n",
       "      <td>96.000000</td>\n",
       "      <td>...</td>\n",
       "      <td>3981.000000</td>\n",
       "      <td>2652.000000</td>\n",
       "      <td>3981.000000</td>\n",
       "      <td>3981.000000</td>\n",
       "      <td>11848.000000</td>\n",
       "      <td>82130.953125</td>\n",
       "      <td>18123.957031</td>\n",
       "      <td>3302.000000</td>\n",
       "      <td>5794.500000</td>\n",
       "      <td>3307.000000</td>\n",
       "    </tr>\n",
       "  </tbody>\n",
       "</table>\n",
       "<p>8 rows × 213 columns</p>\n",
       "</div>"
      ],
      "text/plain": [
       "       TransactionID  isFraud  TransactionDT  TransactionAmt         card1  \\\n",
       "count   1.549700e+04  15497.0   1.549700e+04    15497.000000  15497.000000   \n",
       "mean    3.293107e+06      1.0   7.640973e+06      149.039159   9518.917661   \n",
       "std     1.624598e+05      0.0   4.425245e+06      232.199546   4774.694104   \n",
       "min     2.987240e+06      1.0   9.019300e+04        0.292000   1015.000000   \n",
       "25%     3.165371e+06      1.0   3.885273e+06       35.412000   5680.000000   \n",
       "50%     3.288979e+06      1.0   7.457992e+06       75.000000   9633.000000   \n",
       "75%     3.428441e+06      1.0   1.121365e+07      161.000000  13623.000000   \n",
       "max     3.577526e+06      1.0   1.581088e+07     5191.000000  18375.000000   \n",
       "\n",
       "              card2         card3         card5         addr1         addr2  \\\n",
       "count  15497.000000  15497.000000  15497.000000  15497.000000  15497.000000   \n",
       "mean     365.402271    162.299413    192.199264    296.116216     86.575853   \n",
       "std      157.740175     17.451535     45.778838     82.601107      3.812316   \n",
       "min      100.000000    100.000000    100.000000    110.000000     10.000000   \n",
       "25%      206.000000    150.000000    138.000000    269.000000     87.000000   \n",
       "50%      375.000000    150.000000    224.000000    299.000000     87.000000   \n",
       "75%      514.000000    185.000000    226.000000    324.000000     87.000000   \n",
       "max      600.000000    231.000000    237.000000    536.000000     96.000000   \n",
       "\n",
       "       ...          V312          V313          V314          V315  \\\n",
       "count  ...  15497.000000  15497.000000  15497.000000  15497.000000   \n",
       "mean   ...     71.467779     41.443217     77.500084     55.648887   \n",
       "std    ...    219.047248    138.959968    257.300337    185.096706   \n",
       "min    ...      0.000000      0.000000      0.000000      0.000000   \n",
       "25%    ...      0.000000      0.000000      0.000000      0.000000   \n",
       "50%    ...      0.000000      0.000000      0.000000      0.000000   \n",
       "75%    ...     30.000000      0.000000      0.000000      0.000000   \n",
       "max    ...   3981.000000   2652.000000   3981.000000   3981.000000   \n",
       "\n",
       "               V316          V317          V318          V319          V320  \\\n",
       "count  15497.000000  15497.000000  15497.000000  15497.000000  15497.000000   \n",
       "mean      73.653187    346.821854    174.840761     17.844369     52.519351   \n",
       "std      342.620212   2854.098940    887.550285    119.670214    297.613736   \n",
       "min        0.000000      0.000000      0.000000      0.000000      0.000000   \n",
       "25%        0.000000      0.000000      0.000000      0.000000      0.000000   \n",
       "50%        0.000000      0.000000      0.000000      0.000000      0.000000   \n",
       "75%        0.000000     62.111801     25.738899      0.000000      0.000000   \n",
       "max    11848.000000  82130.953125  18123.957031   3302.000000   5794.500000   \n",
       "\n",
       "               V321  \n",
       "count  15497.000000  \n",
       "mean      30.435826  \n",
       "std      172.183295  \n",
       "min        0.000000  \n",
       "25%        0.000000  \n",
       "50%        0.000000  \n",
       "75%        0.000000  \n",
       "max     3307.000000  \n",
       "\n",
       "[8 rows x 213 columns]"
      ]
     },
     "execution_count": 123,
     "metadata": {},
     "output_type": "execute_result"
    }
   ],
   "source": [
    "newdf_.describe()"
   ]
  },
  {
   "cell_type": "markdown",
   "id": "35a5944e",
   "metadata": {},
   "source": [
    "#### 4. Plots"
   ]
  },
  {
   "cell_type": "code",
   "execution_count": 124,
   "id": "79ad8f8e",
   "metadata": {},
   "outputs": [
    {
     "data": {
      "image/png": "[encoded data removed]",
      "text/plain": [
       "<Figure size 640x480 with 1 Axes>"
      ]
     },
     "metadata": {},
     "output_type": "display_data"
    },
    {
     "data": {
      "image/png": "[encoded data removed]",
      "text/plain": [
       "<Figure size 640x480 with 1 Axes>"
      ]
     },
     "metadata": {},
     "output_type": "display_data"
    }
   ],
   "source": [
    "plt.hist(newdf_['TransactionAmt'], bins = 10, rwidth=0.7)\n",
    "plt.show()\n",
    "plt.hist(newdf['TransactionAmt'], bins = 10, rwidth=0.7)\n",
    "plt.show()\n",
    "\n",
    "\n"
   ]
  },
  {
   "cell_type": "markdown",
   "id": "d10cfe4b",
   "metadata": {},
   "source": [
    "#### Hist Plot of Product CD for fraudulent Transactions\n"
   ]
  },
  {
   "cell_type": "code",
   "execution_count": 125,
   "id": "fc337090",
   "metadata": {},
   "outputs": [
    {
     "data": {
      "image/png": "[encoded data removed]",
      "text/plain": [
       "<Figure size 640x480 with 1 Axes>"
      ]
     },
     "metadata": {},
     "output_type": "display_data"
    },
    {
     "data": {
      "image/png": "[encoded data removed]",
      "text/plain": [
       "<Figure size 640x480 with 1 Axes>"
      ]
     },
     "metadata": {},
     "output_type": "display_data"
    },
    {
     "data": {
      "text/plain": [
       "[<matplotlib.lines.Line2D at 0x1f7b86be670>]"
      ]
     },
     "execution_count": 125,
     "metadata": {},
     "output_type": "execute_result"
    },
    {
     "data": {
      "image/png": "[encoded data removed]",
      "text/plain": [
       "<Figure size 640x480 with 1 Axes>"
      ]
     },
     "metadata": {},
     "output_type": "display_data"
    }
   ],
   "source": [
    "plt.hist(newdf.ProductCD, bins = 5, rwidth=0.7)\n",
    "plt.ylabel('Count of transactions')\n",
    "plt.xlabel('Product Code')\n",
    "plt.show()\n",
    "plt.ylabel('Count of transactions')\n",
    "plt.xlabel('Product Code')\n",
    "plt.hist(newdf_.ProductCD, bins = 5, rwidth=0.7)\n",
    "plt.show()\n",
    "\n",
    "prod_counts_all = newdf.ProductCD.value_counts()\n",
    "prod_counts_fraud = newdf_.ProductCD.value_counts()\n",
    "plt.ylabel('Count of transactions')\n",
    "plt.xlabel('Product Code')\n",
    "\n",
    "percentage_of_fraudulent_per_prod_cat = prod_counts_fraud / prod_counts_all\n",
    "\n",
    "plt.plot(percentage_of_fraudulent_per_prod_cat)"
   ]
  },
  {
   "cell_type": "markdown",
   "id": "f2570cbe",
   "metadata": {},
   "source": [
    "So from the above graphs we see that Product Category C has unusually high fraudulent cases."
   ]
  },
  {
   "cell_type": "code",
   "execution_count": null,
   "id": "490b5b3f",
   "metadata": {},
   "outputs": [],
   "source": []
  },
  {
   "cell_type": "markdown",
   "id": "2316d9c7",
   "metadata": {},
   "source": [
    "### Removing Outliers"
   ]
  },
  {
   "cell_type": "code",
   "execution_count": 126,
   "id": "505db773",
   "metadata": {},
   "outputs": [],
   "source": [
    "one_hot_encoded_data \n",
    "max_threshold=one_hot_encoded_data['TransactionAmt'].quantile(0.95)\n",
    "min_threshold=one_hot_encoded_data['TransactionAmt'].quantile(0.05)\n",
    "one_hot_encoded_data=one_hot_encoded_data[(one_hot_encoded_data['TransactionAmt']>min_threshold) & (one_hot_encoded_data['TransactionAmt']<max_threshold)]\n",
    "# one_hot_encoded_data.isna().sum().sort_values(ascending=False)"
   ]
  },
  {
   "cell_type": "code",
   "execution_count": 127,
   "id": "fbb839de",
   "metadata": {},
   "outputs": [],
   "source": [
    "target = one_hot_encoded_data.isFraud\n",
    "one_hot_encoded_data = one_hot_encoded_data.drop(['isFraud'], axis=1)"
   ]
  },
  {
   "cell_type": "markdown",
   "id": "3a99f388",
   "metadata": {},
   "source": [
    "### PCA"
   ]
  },
  {
   "cell_type": "code",
   "execution_count": 128,
   "id": "6f6f907c",
   "metadata": {},
   "outputs": [
    {
     "data": {
      "text/html": [
       "<style>#sk-container-id-8 {color: black;background-color: white;}#sk-container-id-8 pre{padding: 0;}#sk-container-id-8 div.sk-toggleable {background-color: white;}#sk-container-id-8 label.sk-toggleable__label {cursor: pointer;display: block;width: 100%;margin-bottom: 0;padding: 0.3em;box-sizing: border-box;text-align: center;}#sk-container-id-8 label.sk-toggleable__label-arrow:before {content: \"▸\";float: left;margin-right: 0.25em;color: #696969;}#sk-container-id-8 label.sk-toggleable__label-arrow:hover:before {color: black;}#sk-container-id-8 div.sk-estimator:hover label.sk-toggleable__label-arrow:before {color: black;}#sk-container-id-8 div.sk-toggleable__content {max-height: 0;max-width: 0;overflow: hidden;text-align: left;background-color: #f0f8ff;}#sk-container-id-8 div.sk-toggleable__content pre {margin: 0.2em;color: black;border-radius: 0.25em;background-color: #f0f8ff;}#sk-container-id-8 input.sk-toggleable__control:checked~div.sk-toggleable__content {max-height: 200px;max-width: 100%;overflow: auto;}#sk-container-id-8 input.sk-toggleable__control:checked~label.sk-toggleable__label-arrow:before {content: \"▾\";}#sk-container-id-8 div.sk-estimator input.sk-toggleable__control:checked~label.sk-toggleable__label {background-color: #d4ebff;}#sk-container-id-8 div.sk-label input.sk-toggleable__control:checked~label.sk-toggleable__label {background-color: #d4ebff;}#sk-container-id-8 input.sk-hidden--visually {border: 0;clip: rect(1px 1px 1px 1px);clip: rect(1px, 1px, 1px, 1px);height: 1px;margin: -1px;overflow: hidden;padding: 0;position: absolute;width: 1px;}#sk-container-id-8 div.sk-estimator {font-family: monospace;background-color: #f0f8ff;border: 1px dotted black;border-radius: 0.25em;box-sizing: border-box;margin-bottom: 0.5em;}#sk-container-id-8 div.sk-estimator:hover {background-color: #d4ebff;}#sk-container-id-8 div.sk-parallel-item::after {content: \"\";width: 100%;border-bottom: 1px solid gray;flex-grow: 1;}#sk-container-id-8 div.sk-label:hover label.sk-toggleable__label {background-color: #d4ebff;}#sk-container-id-8 div.sk-serial::before {content: \"\";position: absolute;border-left: 1px solid gray;box-sizing: border-box;top: 0;bottom: 0;left: 50%;z-index: 0;}#sk-container-id-8 div.sk-serial {display: flex;flex-direction: column;align-items: center;background-color: white;padding-right: 0.2em;padding-left: 0.2em;position: relative;}#sk-container-id-8 div.sk-item {position: relative;z-index: 1;}#sk-container-id-8 div.sk-parallel {display: flex;align-items: stretch;justify-content: center;background-color: white;position: relative;}#sk-container-id-8 div.sk-item::before, #sk-container-id-8 div.sk-parallel-item::before {content: \"\";position: absolute;border-left: 1px solid gray;box-sizing: border-box;top: 0;bottom: 0;left: 50%;z-index: -1;}#sk-container-id-8 div.sk-parallel-item {display: flex;flex-direction: column;z-index: 1;position: relative;background-color: white;}#sk-container-id-8 div.sk-parallel-item:first-child::after {align-self: flex-end;width: 50%;}#sk-container-id-8 div.sk-parallel-item:last-child::after {align-self: flex-start;width: 50%;}#sk-container-id-8 div.sk-parallel-item:only-child::after {width: 0;}#sk-container-id-8 div.sk-dashed-wrapped {border: 1px dashed gray;margin: 0 0.4em 0.5em 0.4em;box-sizing: border-box;padding-bottom: 0.4em;background-color: white;}#sk-container-id-8 div.sk-label label {font-family: monospace;font-weight: bold;display: inline-block;line-height: 1.2em;}#sk-container-id-8 div.sk-label-container {text-align: center;}#sk-container-id-8 div.sk-container {/* jupyter's `normalize.less` sets `[hidden] { display: none; }` but bootstrap.min.css set `[hidden] { display: none !important; }` so we also need the `!important` here to be able to override the default hidden behavior on the sphinx rendered scikit-learn.org. See: https://github.com/scikit-learn/scikit-learn/issues/21755 */display: inline-block !important;position: relative;}#sk-container-id-8 div.sk-text-repr-fallback {display: none;}</style><div id=\"sk-container-id-8\" class=\"sk-top-container\"><div class=\"sk-text-repr-fallback\"><pre>StandardScaler()</pre><b>In a Jupyter environment, please rerun this cell to show the HTML representation or trust the notebook. <br />On GitHub, the HTML representation is unable to render, please try loading this page with nbviewer.org.</b></div><div class=\"sk-container\" hidden><div class=\"sk-item\"><div class=\"sk-estimator sk-toggleable\"><input class=\"sk-toggleable__control sk-hidden--visually\" id=\"sk-estimator-id-10\" type=\"checkbox\" checked><label for=\"sk-estimator-id-10\" class=\"sk-toggleable__label sk-toggleable__label-arrow\">StandardScaler</label><div class=\"sk-toggleable__content\"><pre>StandardScaler()</pre></div></div></div></div></div>"
      ],
      "text/plain": [
       "StandardScaler()"
      ]
     },
     "execution_count": 128,
     "metadata": {},
     "output_type": "execute_result"
    }
   ],
   "source": [
    "from sklearn.preprocessing import StandardScaler\n",
    "scaler=StandardScaler()\n",
    "scaler.fit(one_hot_encoded_data)"
   ]
  },
  {
   "cell_type": "code",
   "execution_count": 129,
   "id": "da95f67f",
   "metadata": {},
   "outputs": [
    {
     "data": {
      "text/plain": [
       "array([[ 8.36228835e-01,  8.01285159e-01, -6.36348833e-01, ...,\n",
       "        -2.65720644e-01,  8.55534543e-01, -7.44575205e-01],\n",
       "       [-4.41337177e-01, -4.76331289e-01, -5.24621938e-01, ...,\n",
       "        -2.65720644e-01,  8.55534543e-01, -7.44575205e-01],\n",
       "       [ 7.55822746e-01,  7.27669998e-01,  1.99418278e-01, ...,\n",
       "        -2.65720644e-01, -1.16885988e+00,  1.34304768e+00],\n",
       "       ...,\n",
       "       [-1.13717803e+00, -1.15034870e+00,  3.07218334e-04, ...,\n",
       "        -2.65720644e-01,  8.55534543e-01, -7.44575205e-01],\n",
       "       [-1.25727144e+00, -1.21792913e+00, -9.35951681e-01, ...,\n",
       "        -2.65720644e-01,  8.55534543e-01, -7.44575205e-01],\n",
       "       [ 1.31487948e+00,  1.35711110e+00, -6.23865381e-01, ...,\n",
       "        -2.65720644e-01,  8.55534543e-01, -7.44575205e-01]])"
      ]
     },
     "execution_count": 129,
     "metadata": {},
     "output_type": "execute_result"
    }
   ],
   "source": [
    "scaled_data=scaler.transform(one_hot_encoded_data)\n",
    "scaled_data"
   ]
  },
  {
   "cell_type": "code",
   "execution_count": 130,
   "id": "3e40f812",
   "metadata": {},
   "outputs": [
    {
     "data": {
      "text/html": [
       "<style>#sk-container-id-9 {color: black;background-color: white;}#sk-container-id-9 pre{padding: 0;}#sk-container-id-9 div.sk-toggleable {background-color: white;}#sk-container-id-9 label.sk-toggleable__label {cursor: pointer;display: block;width: 100%;margin-bottom: 0;padding: 0.3em;box-sizing: border-box;text-align: center;}#sk-container-id-9 label.sk-toggleable__label-arrow:before {content: \"▸\";float: left;margin-right: 0.25em;color: #696969;}#sk-container-id-9 label.sk-toggleable__label-arrow:hover:before {color: black;}#sk-container-id-9 div.sk-estimator:hover label.sk-toggleable__label-arrow:before {color: black;}#sk-container-id-9 div.sk-toggleable__content {max-height: 0;max-width: 0;overflow: hidden;text-align: left;background-color: #f0f8ff;}#sk-container-id-9 div.sk-toggleable__content pre {margin: 0.2em;color: black;border-radius: 0.25em;background-color: #f0f8ff;}#sk-container-id-9 input.sk-toggleable__control:checked~div.sk-toggleable__content {max-height: 200px;max-width: 100%;overflow: auto;}#sk-container-id-9 input.sk-toggleable__control:checked~label.sk-toggleable__label-arrow:before {content: \"▾\";}#sk-container-id-9 div.sk-estimator input.sk-toggleable__control:checked~label.sk-toggleable__label {background-color: #d4ebff;}#sk-container-id-9 div.sk-label input.sk-toggleable__control:checked~label.sk-toggleable__label {background-color: #d4ebff;}#sk-container-id-9 input.sk-hidden--visually {border: 0;clip: rect(1px 1px 1px 1px);clip: rect(1px, 1px, 1px, 1px);height: 1px;margin: -1px;overflow: hidden;padding: 0;position: absolute;width: 1px;}#sk-container-id-9 div.sk-estimator {font-family: monospace;background-color: #f0f8ff;border: 1px dotted black;border-radius: 0.25em;box-sizing: border-box;margin-bottom: 0.5em;}#sk-container-id-9 div.sk-estimator:hover {background-color: #d4ebff;}#sk-container-id-9 div.sk-parallel-item::after {content: \"\";width: 100%;border-bottom: 1px solid gray;flex-grow: 1;}#sk-container-id-9 div.sk-label:hover label.sk-toggleable__label {background-color: #d4ebff;}#sk-container-id-9 div.sk-serial::before {content: \"\";position: absolute;border-left: 1px solid gray;box-sizing: border-box;top: 0;bottom: 0;left: 50%;z-index: 0;}#sk-container-id-9 div.sk-serial {display: flex;flex-direction: column;align-items: center;background-color: white;padding-right: 0.2em;padding-left: 0.2em;position: relative;}#sk-container-id-9 div.sk-item {position: relative;z-index: 1;}#sk-container-id-9 div.sk-parallel {display: flex;align-items: stretch;justify-content: center;background-color: white;position: relative;}#sk-container-id-9 div.sk-item::before, #sk-container-id-9 div.sk-parallel-item::before {content: \"\";position: absolute;border-left: 1px solid gray;box-sizing: border-box;top: 0;bottom: 0;left: 50%;z-index: -1;}#sk-container-id-9 div.sk-parallel-item {display: flex;flex-direction: column;z-index: 1;position: relative;background-color: white;}#sk-container-id-9 div.sk-parallel-item:first-child::after {align-self: flex-end;width: 50%;}#sk-container-id-9 div.sk-parallel-item:last-child::after {align-self: flex-start;width: 50%;}#sk-container-id-9 div.sk-parallel-item:only-child::after {width: 0;}#sk-container-id-9 div.sk-dashed-wrapped {border: 1px dashed gray;margin: 0 0.4em 0.5em 0.4em;box-sizing: border-box;padding-bottom: 0.4em;background-color: white;}#sk-container-id-9 div.sk-label label {font-family: monospace;font-weight: bold;display: inline-block;line-height: 1.2em;}#sk-container-id-9 div.sk-label-container {text-align: center;}#sk-container-id-9 div.sk-container {/* jupyter's `normalize.less` sets `[hidden] { display: none; }` but bootstrap.min.css set `[hidden] { display: none !important; }` so we also need the `!important` here to be able to override the default hidden behavior on the sphinx rendered scikit-learn.org. See: https://github.com/scikit-learn/scikit-learn/issues/21755 */display: inline-block !important;position: relative;}#sk-container-id-9 div.sk-text-repr-fallback {display: none;}</style><div id=\"sk-container-id-9\" class=\"sk-top-container\"><div class=\"sk-text-repr-fallback\"><pre>PCA(n_components=0.95)</pre><b>In a Jupyter environment, please rerun this cell to show the HTML representation or trust the notebook. <br />On GitHub, the HTML representation is unable to render, please try loading this page with nbviewer.org.</b></div><div class=\"sk-container\" hidden><div class=\"sk-item\"><div class=\"sk-estimator sk-toggleable\"><input class=\"sk-toggleable__control sk-hidden--visually\" id=\"sk-estimator-id-11\" type=\"checkbox\" checked><label for=\"sk-estimator-id-11\" class=\"sk-toggleable__label sk-toggleable__label-arrow\">PCA</label><div class=\"sk-toggleable__content\"><pre>PCA(n_components=0.95)</pre></div></div></div></div></div>"
      ],
      "text/plain": [
       "PCA(n_components=0.95)"
      ]
     },
     "execution_count": 130,
     "metadata": {},
     "output_type": "execute_result"
    }
   ],
   "source": [
    "from sklearn.decomposition import PCA\n",
    "pca=PCA(n_components=0.95)\n",
    "pca.fit(scaled_data)"
   ]
  },
  {
   "cell_type": "code",
   "execution_count": 131,
   "id": "3704f0ee",
   "metadata": {},
   "outputs": [],
   "source": [
    "xpca=pca.transform(scaled_data)"
   ]
  },
  {
   "cell_type": "code",
   "execution_count": 132,
   "id": "aec3508c",
   "metadata": {},
   "outputs": [
    {
     "data": {
      "text/plain": [
       "array([[-9.44384567e-01, -3.22703423e-01, -9.46698526e-01, ...,\n",
       "         1.31838446e+00, -2.23412022e-01,  5.82083107e-01],\n",
       "       [-2.01400419e+00, -1.38648272e-02, -6.07603904e-01, ...,\n",
       "         2.51548379e-01, -4.01661179e-01,  3.06060965e-01],\n",
       "       [-4.22189660e+00,  9.62484303e-01,  4.96608793e+00, ...,\n",
       "        -5.65160442e-01, -2.48065466e-01, -3.36175934e-01],\n",
       "       ...,\n",
       "       [ 4.24504182e-01, -3.51414990e-01, -5.89312197e+00, ...,\n",
       "        -3.58810354e-02, -8.71963367e-02, -3.71268709e-04],\n",
       "       [ 5.51688936e-01, -3.11735553e-01, -6.36342467e+00, ...,\n",
       "        -8.44203563e-03,  4.83102652e-02, -3.71417018e-02],\n",
       "       [ 4.70799898e-01,  3.94738110e-01, -5.31492897e+00, ...,\n",
       "        -4.64640404e-01, -4.77918867e-01, -2.74049176e-01]])"
      ]
     },
     "execution_count": 132,
     "metadata": {},
     "output_type": "execute_result"
    }
   ],
   "source": [
    "xpca"
   ]
  },
  {
   "cell_type": "code",
   "execution_count": 133,
   "id": "00cd96f1",
   "metadata": {
    "scrolled": true
   },
   "outputs": [
    {
     "data": {
      "text/plain": [
       "0      0\n",
       "1      0\n",
       "2      0\n",
       "3      0\n",
       "4      0\n",
       "      ..\n",
       "139    0\n",
       "140    0\n",
       "141    0\n",
       "142    0\n",
       "143    0\n",
       "Length: 144, dtype: int64"
      ]
     },
     "execution_count": 133,
     "metadata": {},
     "output_type": "execute_result"
    }
   ],
   "source": [
    "trainx = pd.DataFrame(xpca)\n",
    "trainx.isna().sum()"
   ]
  },
  {
   "cell_type": "code",
   "execution_count": null,
   "id": "e266abe8",
   "metadata": {},
   "outputs": [],
   "source": []
  },
  {
   "cell_type": "code",
   "execution_count": 134,
   "id": "7c03910e",
   "metadata": {},
   "outputs": [
    {
     "data": {
      "text/plain": [
       "(398327, 145)"
      ]
     },
     "execution_count": 134,
     "metadata": {},
     "output_type": "execute_result"
    }
   ],
   "source": [
    "isfd = pd.DataFrame(np.array(target)).rename(columns={0: 'isFraud'})\n",
    "\n",
    "trainx = pd.concat([isfd, trainx], axis=1)\n",
    "trainx.shape\n"
   ]
  },
  {
   "cell_type": "code",
   "execution_count": 135,
   "id": "66be483d",
   "metadata": {},
   "outputs": [],
   "source": [
    "fraudx = trainx[trainx['isFraud'] == 1]\n",
    "legitx = trainx[trainx['isFraud']==0].sample(random_state= 10, n=fraudx.shape[0])"
   ]
  },
  {
   "cell_type": "code",
   "execution_count": 136,
   "id": "fc1c7be9",
   "metadata": {},
   "outputs": [
    {
     "data": {
      "text/plain": [
       "isFraud    0\n",
       "0          0\n",
       "1          0\n",
       "2          0\n",
       "3          0\n",
       "          ..\n",
       "139        0\n",
       "140        0\n",
       "141        0\n",
       "142        0\n",
       "143        0\n",
       "Length: 145, dtype: int64"
      ]
     },
     "execution_count": 136,
     "metadata": {},
     "output_type": "execute_result"
    }
   ],
   "source": [
    "balanceddf=pd.concat([fraudx,legitx])\n",
    "balanceddf.isna().sum()"
   ]
  },
  {
   "cell_type": "code",
   "execution_count": 137,
   "id": "9733ac68",
   "metadata": {},
   "outputs": [
    {
     "data": {
      "text/plain": [
       "1    12653\n",
       "0    12653\n",
       "Name: isFraud, dtype: int64"
      ]
     },
     "execution_count": 137,
     "metadata": {},
     "output_type": "execute_result"
    },
    {
     "data": {
      "text/plain": [
       "<Figure size 200x300 with 0 Axes>"
      ]
     },
     "metadata": {},
     "output_type": "display_data"
    }
   ],
   "source": [
    "plt.figure(figsize = (2,3))\n",
    "count_classes=pd.value_counts(balanceddf['isFraud'], sort=True)\n",
    "count_classes"
   ]
  },
  {
   "cell_type": "markdown",
   "id": "433cea5f",
   "metadata": {},
   "source": [
    "# MODEL ESTIMATION"
   ]
  },
  {
   "cell_type": "code",
   "execution_count": 138,
   "id": "15021ec2",
   "metadata": {},
   "outputs": [],
   "source": [
    "y=balanceddf['isFraud']\n",
    "x=balanceddf.drop(['isFraud'],axis=1)"
   ]
  },
  {
   "cell_type": "markdown",
   "id": "adeeb33d",
   "metadata": {},
   "source": [
    "### Normalising the data before training"
   ]
  },
  {
   "cell_type": "code",
   "execution_count": 139,
   "id": "95b16cc0",
   "metadata": {},
   "outputs": [
    {
     "name": "stderr",
     "output_type": "stream",
     "text": [
      "C:\\Users\\Anick\\AppData\\Roaming\\Python\\Python39\\site-packages\\sklearn\\utils\\validation.py:1858: FutureWarning: Feature names only support names that are all strings. Got feature names with dtypes: ['int', 'str']. An error will be raised in 1.2.\n",
      "  warnings.warn(\n",
      "C:\\Users\\Anick\\AppData\\Roaming\\Python\\Python39\\site-packages\\sklearn\\utils\\validation.py:1858: FutureWarning: Feature names only support names that are all strings. Got feature names with dtypes: ['int', 'str']. An error will be raised in 1.2.\n",
      "  warnings.warn(\n"
     ]
    }
   ],
   "source": [
    "from sklearn.preprocessing import Normalizer\n",
    "transformer=Normalizer().fit(balanceddf)\n",
    "balanceddf=transformer.transform(balanceddf)"
   ]
  },
  {
   "cell_type": "markdown",
   "id": "9b3ae4e4",
   "metadata": {},
   "source": [
    "### Using Logistic Regression"
   ]
  },
  {
   "cell_type": "code",
   "execution_count": 140,
   "id": "2902d504",
   "metadata": {},
   "outputs": [],
   "source": [
    "from sklearn.linear_model import LogisticRegression\n",
    "reg=LogisticRegression(max_iter=10000)"
   ]
  },
  {
   "cell_type": "code",
   "execution_count": 141,
   "id": "3d5bd7db",
   "metadata": {},
   "outputs": [],
   "source": [
    "from sklearn.model_selection import train_test_split\n",
    "X_train,X_test, Y_train, Y_test= train_test_split(x,y,test_size=0.2,stratify=y, random_state=1)"
   ]
  },
  {
   "cell_type": "code",
   "execution_count": 142,
   "id": "862625a7",
   "metadata": {},
   "outputs": [
    {
     "data": {
      "text/html": [
       "<style>#sk-container-id-10 {color: black;background-color: white;}#sk-container-id-10 pre{padding: 0;}#sk-container-id-10 div.sk-toggleable {background-color: white;}#sk-container-id-10 label.sk-toggleable__label {cursor: pointer;display: block;width: 100%;margin-bottom: 0;padding: 0.3em;box-sizing: border-box;text-align: center;}#sk-container-id-10 label.sk-toggleable__label-arrow:before {content: \"▸\";float: left;margin-right: 0.25em;color: #696969;}#sk-container-id-10 label.sk-toggleable__label-arrow:hover:before {color: black;}#sk-container-id-10 div.sk-estimator:hover label.sk-toggleable__label-arrow:before {color: black;}#sk-container-id-10 div.sk-toggleable__content {max-height: 0;max-width: 0;overflow: hidden;text-align: left;background-color: #f0f8ff;}#sk-container-id-10 div.sk-toggleable__content pre {margin: 0.2em;color: black;border-radius: 0.25em;background-color: #f0f8ff;}#sk-container-id-10 input.sk-toggleable__control:checked~div.sk-toggleable__content {max-height: 200px;max-width: 100%;overflow: auto;}#sk-container-id-10 input.sk-toggleable__control:checked~label.sk-toggleable__label-arrow:before {content: \"▾\";}#sk-container-id-10 div.sk-estimator input.sk-toggleable__control:checked~label.sk-toggleable__label {background-color: #d4ebff;}#sk-container-id-10 div.sk-label input.sk-toggleable__control:checked~label.sk-toggleable__label {background-color: #d4ebff;}#sk-container-id-10 input.sk-hidden--visually {border: 0;clip: rect(1px 1px 1px 1px);clip: rect(1px, 1px, 1px, 1px);height: 1px;margin: -1px;overflow: hidden;padding: 0;position: absolute;width: 1px;}#sk-container-id-10 div.sk-estimator {font-family: monospace;background-color: #f0f8ff;border: 1px dotted black;border-radius: 0.25em;box-sizing: border-box;margin-bottom: 0.5em;}#sk-container-id-10 div.sk-estimator:hover {background-color: #d4ebff;}#sk-container-id-10 div.sk-parallel-item::after {content: \"\";width: 100%;border-bottom: 1px solid gray;flex-grow: 1;}#sk-container-id-10 div.sk-label:hover label.sk-toggleable__label {background-color: #d4ebff;}#sk-container-id-10 div.sk-serial::before {content: \"\";position: absolute;border-left: 1px solid gray;box-sizing: border-box;top: 0;bottom: 0;left: 50%;z-index: 0;}#sk-container-id-10 div.sk-serial {display: flex;flex-direction: column;align-items: center;background-color: white;padding-right: 0.2em;padding-left: 0.2em;position: relative;}#sk-container-id-10 div.sk-item {position: relative;z-index: 1;}#sk-container-id-10 div.sk-parallel {display: flex;align-items: stretch;justify-content: center;background-color: white;position: relative;}#sk-container-id-10 div.sk-item::before, #sk-container-id-10 div.sk-parallel-item::before {content: \"\";position: absolute;border-left: 1px solid gray;box-sizing: border-box;top: 0;bottom: 0;left: 50%;z-index: -1;}#sk-container-id-10 div.sk-parallel-item {display: flex;flex-direction: column;z-index: 1;position: relative;background-color: white;}#sk-container-id-10 div.sk-parallel-item:first-child::after {align-self: flex-end;width: 50%;}#sk-container-id-10 div.sk-parallel-item:last-child::after {align-self: flex-start;width: 50%;}#sk-container-id-10 div.sk-parallel-item:only-child::after {width: 0;}#sk-container-id-10 div.sk-dashed-wrapped {border: 1px dashed gray;margin: 0 0.4em 0.5em 0.4em;box-sizing: border-box;padding-bottom: 0.4em;background-color: white;}#sk-container-id-10 div.sk-label label {font-family: monospace;font-weight: bold;display: inline-block;line-height: 1.2em;}#sk-container-id-10 div.sk-label-container {text-align: center;}#sk-container-id-10 div.sk-container {/* jupyter's `normalize.less` sets `[hidden] { display: none; }` but bootstrap.min.css set `[hidden] { display: none !important; }` so we also need the `!important` here to be able to override the default hidden behavior on the sphinx rendered scikit-learn.org. See: https://github.com/scikit-learn/scikit-learn/issues/21755 */display: inline-block !important;position: relative;}#sk-container-id-10 div.sk-text-repr-fallback {display: none;}</style><div id=\"sk-container-id-10\" class=\"sk-top-container\"><div class=\"sk-text-repr-fallback\"><pre>LogisticRegression(max_iter=10000)</pre><b>In a Jupyter environment, please rerun this cell to show the HTML representation or trust the notebook. <br />On GitHub, the HTML representation is unable to render, please try loading this page with nbviewer.org.</b></div><div class=\"sk-container\" hidden><div class=\"sk-item\"><div class=\"sk-estimator sk-toggleable\"><input class=\"sk-toggleable__control sk-hidden--visually\" id=\"sk-estimator-id-12\" type=\"checkbox\" checked><label for=\"sk-estimator-id-12\" class=\"sk-toggleable__label sk-toggleable__label-arrow\">LogisticRegression</label><div class=\"sk-toggleable__content\"><pre>LogisticRegression(max_iter=10000)</pre></div></div></div></div></div>"
      ],
      "text/plain": [
       "LogisticRegression(max_iter=10000)"
      ]
     },
     "execution_count": 142,
     "metadata": {},
     "output_type": "execute_result"
    }
   ],
   "source": [
    "reg.fit(X_train,Y_train)"
   ]
  },
  {
   "cell_type": "code",
   "execution_count": 143,
   "id": "dae98bed",
   "metadata": {},
   "outputs": [
    {
     "data": {
      "text/plain": [
       "0.7576071922544951"
      ]
     },
     "execution_count": 143,
     "metadata": {},
     "output_type": "execute_result"
    }
   ],
   "source": [
    "from sklearn.metrics import accuracy_score\n",
    "\n",
    "ypredtrain=reg.predict(X_train)\n",
    "trainingacc=accuracy_score(ypredtrain,Y_train)\n",
    "trainingacc"
   ]
  },
  {
   "cell_type": "code",
   "execution_count": 144,
   "id": "93c91eef",
   "metadata": {},
   "outputs": [
    {
     "data": {
      "text/plain": [
       "0.75760568945081"
      ]
     },
     "execution_count": 144,
     "metadata": {},
     "output_type": "execute_result"
    }
   ],
   "source": [
    "ypredtest=reg.predict(X_test)\n",
    "testacc=accuracy_score(ypredtest,Y_test)\n",
    "testacc"
   ]
  },
  {
   "cell_type": "code",
   "execution_count": 145,
   "id": "b647a3dd",
   "metadata": {},
   "outputs": [
    {
     "name": "stdout",
     "output_type": "stream",
     "text": [
      "Confusion Matrix : \n",
      " [[1922  609]\n",
      " [ 618 1913]]\n"
     ]
    }
   ],
   "source": [
    "from sklearn.metrics import confusion_matrix, f1_score\n",
    "print(\"Confusion Matrix : \\n\",confusion_matrix(Y_test, ypredtest))"
   ]
  },
  {
   "cell_type": "code",
   "execution_count": 146,
   "id": "5a6822bf",
   "metadata": {},
   "outputs": [
    {
     "data": {
      "text/plain": [
       "array([0, 1], dtype=int64)"
      ]
     },
     "execution_count": 146,
     "metadata": {},
     "output_type": "execute_result"
    }
   ],
   "source": [
    "np.unique(ypredtest)"
   ]
  },
  {
   "cell_type": "code",
   "execution_count": 147,
   "id": "611adc2b",
   "metadata": {},
   "outputs": [
    {
     "data": {
      "text/plain": [
       "0    2540\n",
       "1    2522\n",
       "dtype: int64"
      ]
     },
     "execution_count": 147,
     "metadata": {},
     "output_type": "execute_result"
    }
   ],
   "source": [
    "pd.DataFrame(ypredtest).value_counts()"
   ]
  },
  {
   "cell_type": "code",
   "execution_count": 148,
   "id": "0f6e01b2",
   "metadata": {},
   "outputs": [
    {
     "data": {
      "text/plain": [
       "0.7571739560657035"
      ]
     },
     "execution_count": 148,
     "metadata": {},
     "output_type": "execute_result"
    }
   ],
   "source": [
    "from sklearn.metrics import f1_score\n",
    "f1_score(Y_test,ypredtest)"
   ]
  },
  {
   "cell_type": "code",
   "execution_count": 149,
   "id": "fe079136",
   "metadata": {},
   "outputs": [],
   "source": [
    "test=pd.read_csv(\"test.csv\")"
   ]
  },
  {
   "cell_type": "code",
   "execution_count": 150,
   "id": "340845b0",
   "metadata": {
    "scrolled": true
   },
   "outputs": [
    {
     "data": {
      "text/html": [
       "<div>\n",
       "<style scoped>\n",
       "    .dataframe tbody tr th:only-of-type {\n",
       "        vertical-align: middle;\n",
       "    }\n",
       "\n",
       "    .dataframe tbody tr th {\n",
       "        vertical-align: top;\n",
       "    }\n",
       "\n",
       "    .dataframe thead th {\n",
       "        text-align: right;\n",
       "    }\n",
       "</style>\n",
       "<table border=\"1\" class=\"dataframe\">\n",
       "  <thead>\n",
       "    <tr style=\"text-align: right;\">\n",
       "      <th></th>\n",
       "      <th>TransactionID</th>\n",
       "      <th>TransactionDT</th>\n",
       "      <th>TransactionAmt</th>\n",
       "      <th>ProductCD</th>\n",
       "      <th>card1</th>\n",
       "      <th>card2</th>\n",
       "      <th>card3</th>\n",
       "      <th>card4</th>\n",
       "      <th>card5</th>\n",
       "      <th>card6</th>\n",
       "      <th>...</th>\n",
       "      <th>id_31</th>\n",
       "      <th>id_32</th>\n",
       "      <th>id_33</th>\n",
       "      <th>id_34</th>\n",
       "      <th>id_35</th>\n",
       "      <th>id_36</th>\n",
       "      <th>id_37</th>\n",
       "      <th>id_38</th>\n",
       "      <th>DeviceType</th>\n",
       "      <th>DeviceInfo</th>\n",
       "    </tr>\n",
       "  </thead>\n",
       "  <tbody>\n",
       "    <tr>\n",
       "      <th>0</th>\n",
       "      <td>3460689</td>\n",
       "      <td>12245831</td>\n",
       "      <td>325.000</td>\n",
       "      <td>W</td>\n",
       "      <td>12932</td>\n",
       "      <td>361.0</td>\n",
       "      <td>150.0</td>\n",
       "      <td>visa</td>\n",
       "      <td>226.0</td>\n",
       "      <td>debit</td>\n",
       "      <td>...</td>\n",
       "      <td>NaN</td>\n",
       "      <td>NaN</td>\n",
       "      <td>NaN</td>\n",
       "      <td>NaN</td>\n",
       "      <td>NaN</td>\n",
       "      <td>NaN</td>\n",
       "      <td>NaN</td>\n",
       "      <td>NaN</td>\n",
       "      <td>NaN</td>\n",
       "      <td>NaN</td>\n",
       "    </tr>\n",
       "    <tr>\n",
       "      <th>1</th>\n",
       "      <td>3415050</td>\n",
       "      <td>10807203</td>\n",
       "      <td>37.257</td>\n",
       "      <td>C</td>\n",
       "      <td>14276</td>\n",
       "      <td>177.0</td>\n",
       "      <td>185.0</td>\n",
       "      <td>mastercard</td>\n",
       "      <td>137.0</td>\n",
       "      <td>credit</td>\n",
       "      <td>...</td>\n",
       "      <td>chrome 63.0 for android</td>\n",
       "      <td>NaN</td>\n",
       "      <td>NaN</td>\n",
       "      <td>NaN</td>\n",
       "      <td>F</td>\n",
       "      <td>F</td>\n",
       "      <td>T</td>\n",
       "      <td>F</td>\n",
       "      <td>mobile</td>\n",
       "      <td>SM-G9600 Build/R16NW</td>\n",
       "    </tr>\n",
       "    <tr>\n",
       "      <th>2</th>\n",
       "      <td>3408682</td>\n",
       "      <td>10685267</td>\n",
       "      <td>100.000</td>\n",
       "      <td>R</td>\n",
       "      <td>16506</td>\n",
       "      <td>554.0</td>\n",
       "      <td>150.0</td>\n",
       "      <td>visa</td>\n",
       "      <td>226.0</td>\n",
       "      <td>credit</td>\n",
       "      <td>...</td>\n",
       "      <td>chrome 64.0</td>\n",
       "      <td>24.0</td>\n",
       "      <td>1536x960</td>\n",
       "      <td>match_status:2</td>\n",
       "      <td>T</td>\n",
       "      <td>F</td>\n",
       "      <td>T</td>\n",
       "      <td>F</td>\n",
       "      <td>desktop</td>\n",
       "      <td>Windows</td>\n",
       "    </tr>\n",
       "    <tr>\n",
       "      <th>3</th>\n",
       "      <td>3389297</td>\n",
       "      <td>10160809</td>\n",
       "      <td>57.950</td>\n",
       "      <td>W</td>\n",
       "      <td>9500</td>\n",
       "      <td>321.0</td>\n",
       "      <td>150.0</td>\n",
       "      <td>visa</td>\n",
       "      <td>226.0</td>\n",
       "      <td>debit</td>\n",
       "      <td>...</td>\n",
       "      <td>NaN</td>\n",
       "      <td>NaN</td>\n",
       "      <td>NaN</td>\n",
       "      <td>NaN</td>\n",
       "      <td>NaN</td>\n",
       "      <td>NaN</td>\n",
       "      <td>NaN</td>\n",
       "      <td>NaN</td>\n",
       "      <td>NaN</td>\n",
       "      <td>NaN</td>\n",
       "    </tr>\n",
       "    <tr>\n",
       "      <th>4</th>\n",
       "      <td>3366334</td>\n",
       "      <td>9492365</td>\n",
       "      <td>34.258</td>\n",
       "      <td>C</td>\n",
       "      <td>15885</td>\n",
       "      <td>545.0</td>\n",
       "      <td>185.0</td>\n",
       "      <td>visa</td>\n",
       "      <td>138.0</td>\n",
       "      <td>debit</td>\n",
       "      <td>...</td>\n",
       "      <td>NaN</td>\n",
       "      <td>NaN</td>\n",
       "      <td>NaN</td>\n",
       "      <td>NaN</td>\n",
       "      <td>NaN</td>\n",
       "      <td>NaN</td>\n",
       "      <td>NaN</td>\n",
       "      <td>NaN</td>\n",
       "      <td>NaN</td>\n",
       "      <td>NaN</td>\n",
       "    </tr>\n",
       "    <tr>\n",
       "      <th>...</th>\n",
       "      <td>...</td>\n",
       "      <td>...</td>\n",
       "      <td>...</td>\n",
       "      <td>...</td>\n",
       "      <td>...</td>\n",
       "      <td>...</td>\n",
       "      <td>...</td>\n",
       "      <td>...</td>\n",
       "      <td>...</td>\n",
       "      <td>...</td>\n",
       "      <td>...</td>\n",
       "      <td>...</td>\n",
       "      <td>...</td>\n",
       "      <td>...</td>\n",
       "      <td>...</td>\n",
       "      <td>...</td>\n",
       "      <td>...</td>\n",
       "      <td>...</td>\n",
       "      <td>...</td>\n",
       "      <td>...</td>\n",
       "      <td>...</td>\n",
       "    </tr>\n",
       "    <tr>\n",
       "      <th>147630</th>\n",
       "      <td>3193088</td>\n",
       "      <td>4738133</td>\n",
       "      <td>3340.640</td>\n",
       "      <td>W</td>\n",
       "      <td>7676</td>\n",
       "      <td>512.0</td>\n",
       "      <td>150.0</td>\n",
       "      <td>visa</td>\n",
       "      <td>226.0</td>\n",
       "      <td>debit</td>\n",
       "      <td>...</td>\n",
       "      <td>NaN</td>\n",
       "      <td>NaN</td>\n",
       "      <td>NaN</td>\n",
       "      <td>NaN</td>\n",
       "      <td>NaN</td>\n",
       "      <td>NaN</td>\n",
       "      <td>NaN</td>\n",
       "      <td>NaN</td>\n",
       "      <td>NaN</td>\n",
       "      <td>NaN</td>\n",
       "    </tr>\n",
       "    <tr>\n",
       "      <th>147631</th>\n",
       "      <td>3400907</td>\n",
       "      <td>10444920</td>\n",
       "      <td>171.000</td>\n",
       "      <td>W</td>\n",
       "      <td>2772</td>\n",
       "      <td>512.0</td>\n",
       "      <td>150.0</td>\n",
       "      <td>visa</td>\n",
       "      <td>226.0</td>\n",
       "      <td>debit</td>\n",
       "      <td>...</td>\n",
       "      <td>NaN</td>\n",
       "      <td>NaN</td>\n",
       "      <td>NaN</td>\n",
       "      <td>NaN</td>\n",
       "      <td>NaN</td>\n",
       "      <td>NaN</td>\n",
       "      <td>NaN</td>\n",
       "      <td>NaN</td>\n",
       "      <td>NaN</td>\n",
       "      <td>NaN</td>\n",
       "    </tr>\n",
       "    <tr>\n",
       "      <th>147632</th>\n",
       "      <td>3489602</td>\n",
       "      <td>13181877</td>\n",
       "      <td>404.950</td>\n",
       "      <td>W</td>\n",
       "      <td>7919</td>\n",
       "      <td>194.0</td>\n",
       "      <td>150.0</td>\n",
       "      <td>mastercard</td>\n",
       "      <td>166.0</td>\n",
       "      <td>debit</td>\n",
       "      <td>...</td>\n",
       "      <td>NaN</td>\n",
       "      <td>NaN</td>\n",
       "      <td>NaN</td>\n",
       "      <td>NaN</td>\n",
       "      <td>NaN</td>\n",
       "      <td>NaN</td>\n",
       "      <td>NaN</td>\n",
       "      <td>NaN</td>\n",
       "      <td>NaN</td>\n",
       "      <td>NaN</td>\n",
       "    </tr>\n",
       "    <tr>\n",
       "      <th>147633</th>\n",
       "      <td>3534022</td>\n",
       "      <td>14431969</td>\n",
       "      <td>35.950</td>\n",
       "      <td>W</td>\n",
       "      <td>11839</td>\n",
       "      <td>490.0</td>\n",
       "      <td>150.0</td>\n",
       "      <td>visa</td>\n",
       "      <td>226.0</td>\n",
       "      <td>debit</td>\n",
       "      <td>...</td>\n",
       "      <td>NaN</td>\n",
       "      <td>NaN</td>\n",
       "      <td>NaN</td>\n",
       "      <td>NaN</td>\n",
       "      <td>NaN</td>\n",
       "      <td>NaN</td>\n",
       "      <td>NaN</td>\n",
       "      <td>NaN</td>\n",
       "      <td>NaN</td>\n",
       "      <td>NaN</td>\n",
       "    </tr>\n",
       "    <tr>\n",
       "      <th>147634</th>\n",
       "      <td>3039653</td>\n",
       "      <td>1227825</td>\n",
       "      <td>24.836</td>\n",
       "      <td>C</td>\n",
       "      <td>15885</td>\n",
       "      <td>545.0</td>\n",
       "      <td>185.0</td>\n",
       "      <td>visa</td>\n",
       "      <td>138.0</td>\n",
       "      <td>debit</td>\n",
       "      <td>...</td>\n",
       "      <td>chrome 62.0</td>\n",
       "      <td>NaN</td>\n",
       "      <td>NaN</td>\n",
       "      <td>NaN</td>\n",
       "      <td>F</td>\n",
       "      <td>F</td>\n",
       "      <td>T</td>\n",
       "      <td>T</td>\n",
       "      <td>desktop</td>\n",
       "      <td>Windows</td>\n",
       "    </tr>\n",
       "  </tbody>\n",
       "</table>\n",
       "<p>147635 rows × 433 columns</p>\n",
       "</div>"
      ],
      "text/plain": [
       "        TransactionID  TransactionDT  TransactionAmt ProductCD  card1  card2  \\\n",
       "0             3460689       12245831         325.000         W  12932  361.0   \n",
       "1             3415050       10807203          37.257         C  14276  177.0   \n",
       "2             3408682       10685267         100.000         R  16506  554.0   \n",
       "3             3389297       10160809          57.950         W   9500  321.0   \n",
       "4             3366334        9492365          34.258         C  15885  545.0   \n",
       "...               ...            ...             ...       ...    ...    ...   \n",
       "147630        3193088        4738133        3340.640         W   7676  512.0   \n",
       "147631        3400907       10444920         171.000         W   2772  512.0   \n",
       "147632        3489602       13181877         404.950         W   7919  194.0   \n",
       "147633        3534022       14431969          35.950         W  11839  490.0   \n",
       "147634        3039653        1227825          24.836         C  15885  545.0   \n",
       "\n",
       "        card3       card4  card5   card6  ...                    id_31  id_32  \\\n",
       "0       150.0        visa  226.0   debit  ...                      NaN    NaN   \n",
       "1       185.0  mastercard  137.0  credit  ...  chrome 63.0 for android    NaN   \n",
       "2       150.0        visa  226.0  credit  ...              chrome 64.0   24.0   \n",
       "3       150.0        visa  226.0   debit  ...                      NaN    NaN   \n",
       "4       185.0        visa  138.0   debit  ...                      NaN    NaN   \n",
       "...       ...         ...    ...     ...  ...                      ...    ...   \n",
       "147630  150.0        visa  226.0   debit  ...                      NaN    NaN   \n",
       "147631  150.0        visa  226.0   debit  ...                      NaN    NaN   \n",
       "147632  150.0  mastercard  166.0   debit  ...                      NaN    NaN   \n",
       "147633  150.0        visa  226.0   debit  ...                      NaN    NaN   \n",
       "147634  185.0        visa  138.0   debit  ...              chrome 62.0    NaN   \n",
       "\n",
       "           id_33           id_34 id_35 id_36  id_37  id_38  DeviceType  \\\n",
       "0            NaN             NaN   NaN   NaN    NaN    NaN         NaN   \n",
       "1            NaN             NaN     F     F      T      F      mobile   \n",
       "2       1536x960  match_status:2     T     F      T      F     desktop   \n",
       "3            NaN             NaN   NaN   NaN    NaN    NaN         NaN   \n",
       "4            NaN             NaN   NaN   NaN    NaN    NaN         NaN   \n",
       "...          ...             ...   ...   ...    ...    ...         ...   \n",
       "147630       NaN             NaN   NaN   NaN    NaN    NaN         NaN   \n",
       "147631       NaN             NaN   NaN   NaN    NaN    NaN         NaN   \n",
       "147632       NaN             NaN   NaN   NaN    NaN    NaN         NaN   \n",
       "147633       NaN             NaN   NaN   NaN    NaN    NaN         NaN   \n",
       "147634       NaN             NaN     F     F      T      T     desktop   \n",
       "\n",
       "                  DeviceInfo  \n",
       "0                        NaN  \n",
       "1       SM-G9600 Build/R16NW  \n",
       "2                    Windows  \n",
       "3                        NaN  \n",
       "4                        NaN  \n",
       "...                      ...  \n",
       "147630                   NaN  \n",
       "147631                   NaN  \n",
       "147632                   NaN  \n",
       "147633                   NaN  \n",
       "147634               Windows  \n",
       "\n",
       "[147635 rows x 433 columns]"
      ]
     },
     "execution_count": 150,
     "metadata": {},
     "output_type": "execute_result"
    }
   ],
   "source": [
    "test"
   ]
  },
  {
   "cell_type": "code",
   "execution_count": 151,
   "id": "cfa974cd",
   "metadata": {
    "scrolled": true
   },
   "outputs": [
    {
     "data": {
      "text/plain": [
       "TransactionID          0\n",
       "TransactionDT          0\n",
       "TransactionAmt         0\n",
       "ProductCD              0\n",
       "card1                  0\n",
       "                   ...  \n",
       "id_36             112186\n",
       "id_37             112186\n",
       "id_38             112186\n",
       "DeviceType        112226\n",
       "DeviceInfo        117892\n",
       "Length: 433, dtype: int64"
      ]
     },
     "execution_count": 151,
     "metadata": {},
     "output_type": "execute_result"
    }
   ],
   "source": [
    "test.isna().sum()"
   ]
  },
  {
   "cell_type": "markdown",
   "id": "8d73e11b",
   "metadata": {},
   "source": [
    "## Preparing Test data set"
   ]
  },
  {
   "cell_type": "code",
   "execution_count": 152,
   "id": "be82ed1c",
   "metadata": {},
   "outputs": [],
   "source": [
    "test=pd.read_csv('test.csv')"
   ]
  },
  {
   "cell_type": "code",
   "execution_count": 153,
   "id": "0c3baa10",
   "metadata": {},
   "outputs": [
    {
     "data": {
      "text/plain": [
       "Index(['dist2', 'R_emaildomain', 'D6', 'D7', 'D8', 'D9', 'D12', 'D13', 'D14',\n",
       "       'V138',\n",
       "       ...\n",
       "       'id_31', 'id_32', 'id_33', 'id_34', 'id_35', 'id_36', 'id_37', 'id_38',\n",
       "       'DeviceType', 'DeviceInfo'],\n",
       "      dtype='object', length=208)"
      ]
     },
     "execution_count": 153,
     "metadata": {},
     "output_type": "execute_result"
    }
   ],
   "source": [
    "drop_cols"
   ]
  },
  {
   "cell_type": "code",
   "execution_count": 154,
   "id": "d3c04b57",
   "metadata": {},
   "outputs": [],
   "source": [
    "test=test.drop(columns=drop_cols)"
   ]
  },
  {
   "cell_type": "code",
   "execution_count": 155,
   "id": "ddf20694",
   "metadata": {},
   "outputs": [
    {
     "data": {
      "text/html": [
       "<div>\n",
       "<style scoped>\n",
       "    .dataframe tbody tr th:only-of-type {\n",
       "        vertical-align: middle;\n",
       "    }\n",
       "\n",
       "    .dataframe tbody tr th {\n",
       "        vertical-align: top;\n",
       "    }\n",
       "\n",
       "    .dataframe thead th {\n",
       "        text-align: right;\n",
       "    }\n",
       "</style>\n",
       "<table border=\"1\" class=\"dataframe\">\n",
       "  <thead>\n",
       "    <tr style=\"text-align: right;\">\n",
       "      <th></th>\n",
       "      <th>TransactionID</th>\n",
       "      <th>TransactionDT</th>\n",
       "      <th>TransactionAmt</th>\n",
       "      <th>ProductCD</th>\n",
       "      <th>card1</th>\n",
       "      <th>card2</th>\n",
       "      <th>card3</th>\n",
       "      <th>card4</th>\n",
       "      <th>card5</th>\n",
       "      <th>card6</th>\n",
       "      <th>...</th>\n",
       "      <th>V312</th>\n",
       "      <th>V313</th>\n",
       "      <th>V314</th>\n",
       "      <th>V315</th>\n",
       "      <th>V316</th>\n",
       "      <th>V317</th>\n",
       "      <th>V318</th>\n",
       "      <th>V319</th>\n",
       "      <th>V320</th>\n",
       "      <th>V321</th>\n",
       "    </tr>\n",
       "  </thead>\n",
       "  <tbody>\n",
       "    <tr>\n",
       "      <th>0</th>\n",
       "      <td>3460689</td>\n",
       "      <td>12245831</td>\n",
       "      <td>325.000</td>\n",
       "      <td>W</td>\n",
       "      <td>12932</td>\n",
       "      <td>361.0</td>\n",
       "      <td>150.0</td>\n",
       "      <td>visa</td>\n",
       "      <td>226.0</td>\n",
       "      <td>debit</td>\n",
       "      <td>...</td>\n",
       "      <td>0.0</td>\n",
       "      <td>0.000000</td>\n",
       "      <td>0.000000</td>\n",
       "      <td>0.000000</td>\n",
       "      <td>325.0</td>\n",
       "      <td>325.0</td>\n",
       "      <td>325.0</td>\n",
       "      <td>0.0</td>\n",
       "      <td>0.0</td>\n",
       "      <td>0.0</td>\n",
       "    </tr>\n",
       "    <tr>\n",
       "      <th>1</th>\n",
       "      <td>3415050</td>\n",
       "      <td>10807203</td>\n",
       "      <td>37.257</td>\n",
       "      <td>C</td>\n",
       "      <td>14276</td>\n",
       "      <td>177.0</td>\n",
       "      <td>185.0</td>\n",
       "      <td>mastercard</td>\n",
       "      <td>137.0</td>\n",
       "      <td>credit</td>\n",
       "      <td>...</td>\n",
       "      <td>0.0</td>\n",
       "      <td>0.000000</td>\n",
       "      <td>0.000000</td>\n",
       "      <td>0.000000</td>\n",
       "      <td>0.0</td>\n",
       "      <td>0.0</td>\n",
       "      <td>0.0</td>\n",
       "      <td>0.0</td>\n",
       "      <td>0.0</td>\n",
       "      <td>0.0</td>\n",
       "    </tr>\n",
       "    <tr>\n",
       "      <th>2</th>\n",
       "      <td>3408682</td>\n",
       "      <td>10685267</td>\n",
       "      <td>100.000</td>\n",
       "      <td>R</td>\n",
       "      <td>16506</td>\n",
       "      <td>554.0</td>\n",
       "      <td>150.0</td>\n",
       "      <td>visa</td>\n",
       "      <td>226.0</td>\n",
       "      <td>credit</td>\n",
       "      <td>...</td>\n",
       "      <td>0.0</td>\n",
       "      <td>0.000000</td>\n",
       "      <td>0.000000</td>\n",
       "      <td>0.000000</td>\n",
       "      <td>0.0</td>\n",
       "      <td>0.0</td>\n",
       "      <td>0.0</td>\n",
       "      <td>0.0</td>\n",
       "      <td>0.0</td>\n",
       "      <td>0.0</td>\n",
       "    </tr>\n",
       "    <tr>\n",
       "      <th>3</th>\n",
       "      <td>3389297</td>\n",
       "      <td>10160809</td>\n",
       "      <td>57.950</td>\n",
       "      <td>W</td>\n",
       "      <td>9500</td>\n",
       "      <td>321.0</td>\n",
       "      <td>150.0</td>\n",
       "      <td>visa</td>\n",
       "      <td>226.0</td>\n",
       "      <td>debit</td>\n",
       "      <td>...</td>\n",
       "      <td>0.0</td>\n",
       "      <td>35.950001</td>\n",
       "      <td>35.950001</td>\n",
       "      <td>35.950001</td>\n",
       "      <td>0.0</td>\n",
       "      <td>0.0</td>\n",
       "      <td>0.0</td>\n",
       "      <td>0.0</td>\n",
       "      <td>0.0</td>\n",
       "      <td>0.0</td>\n",
       "    </tr>\n",
       "    <tr>\n",
       "      <th>4</th>\n",
       "      <td>3366334</td>\n",
       "      <td>9492365</td>\n",
       "      <td>34.258</td>\n",
       "      <td>C</td>\n",
       "      <td>15885</td>\n",
       "      <td>545.0</td>\n",
       "      <td>185.0</td>\n",
       "      <td>visa</td>\n",
       "      <td>138.0</td>\n",
       "      <td>debit</td>\n",
       "      <td>...</td>\n",
       "      <td>0.0</td>\n",
       "      <td>0.000000</td>\n",
       "      <td>0.000000</td>\n",
       "      <td>0.000000</td>\n",
       "      <td>0.0</td>\n",
       "      <td>0.0</td>\n",
       "      <td>0.0</td>\n",
       "      <td>0.0</td>\n",
       "      <td>0.0</td>\n",
       "      <td>0.0</td>\n",
       "    </tr>\n",
       "    <tr>\n",
       "      <th>...</th>\n",
       "      <td>...</td>\n",
       "      <td>...</td>\n",
       "      <td>...</td>\n",
       "      <td>...</td>\n",
       "      <td>...</td>\n",
       "      <td>...</td>\n",
       "      <td>...</td>\n",
       "      <td>...</td>\n",
       "      <td>...</td>\n",
       "      <td>...</td>\n",
       "      <td>...</td>\n",
       "      <td>...</td>\n",
       "      <td>...</td>\n",
       "      <td>...</td>\n",
       "      <td>...</td>\n",
       "      <td>...</td>\n",
       "      <td>...</td>\n",
       "      <td>...</td>\n",
       "      <td>...</td>\n",
       "      <td>...</td>\n",
       "      <td>...</td>\n",
       "    </tr>\n",
       "    <tr>\n",
       "      <th>147630</th>\n",
       "      <td>3193088</td>\n",
       "      <td>4738133</td>\n",
       "      <td>3340.640</td>\n",
       "      <td>W</td>\n",
       "      <td>7676</td>\n",
       "      <td>512.0</td>\n",
       "      <td>150.0</td>\n",
       "      <td>visa</td>\n",
       "      <td>226.0</td>\n",
       "      <td>debit</td>\n",
       "      <td>...</td>\n",
       "      <td>0.0</td>\n",
       "      <td>0.000000</td>\n",
       "      <td>0.000000</td>\n",
       "      <td>0.000000</td>\n",
       "      <td>0.0</td>\n",
       "      <td>0.0</td>\n",
       "      <td>0.0</td>\n",
       "      <td>0.0</td>\n",
       "      <td>0.0</td>\n",
       "      <td>0.0</td>\n",
       "    </tr>\n",
       "    <tr>\n",
       "      <th>147631</th>\n",
       "      <td>3400907</td>\n",
       "      <td>10444920</td>\n",
       "      <td>171.000</td>\n",
       "      <td>W</td>\n",
       "      <td>2772</td>\n",
       "      <td>512.0</td>\n",
       "      <td>150.0</td>\n",
       "      <td>visa</td>\n",
       "      <td>226.0</td>\n",
       "      <td>debit</td>\n",
       "      <td>...</td>\n",
       "      <td>0.0</td>\n",
       "      <td>507.000000</td>\n",
       "      <td>507.000000</td>\n",
       "      <td>507.000000</td>\n",
       "      <td>0.0</td>\n",
       "      <td>0.0</td>\n",
       "      <td>0.0</td>\n",
       "      <td>0.0</td>\n",
       "      <td>0.0</td>\n",
       "      <td>0.0</td>\n",
       "    </tr>\n",
       "    <tr>\n",
       "      <th>147632</th>\n",
       "      <td>3489602</td>\n",
       "      <td>13181877</td>\n",
       "      <td>404.950</td>\n",
       "      <td>W</td>\n",
       "      <td>7919</td>\n",
       "      <td>194.0</td>\n",
       "      <td>150.0</td>\n",
       "      <td>mastercard</td>\n",
       "      <td>166.0</td>\n",
       "      <td>debit</td>\n",
       "      <td>...</td>\n",
       "      <td>0.0</td>\n",
       "      <td>0.000000</td>\n",
       "      <td>0.000000</td>\n",
       "      <td>0.000000</td>\n",
       "      <td>0.0</td>\n",
       "      <td>0.0</td>\n",
       "      <td>0.0</td>\n",
       "      <td>0.0</td>\n",
       "      <td>0.0</td>\n",
       "      <td>0.0</td>\n",
       "    </tr>\n",
       "    <tr>\n",
       "      <th>147633</th>\n",
       "      <td>3534022</td>\n",
       "      <td>14431969</td>\n",
       "      <td>35.950</td>\n",
       "      <td>W</td>\n",
       "      <td>11839</td>\n",
       "      <td>490.0</td>\n",
       "      <td>150.0</td>\n",
       "      <td>visa</td>\n",
       "      <td>226.0</td>\n",
       "      <td>debit</td>\n",
       "      <td>...</td>\n",
       "      <td>0.0</td>\n",
       "      <td>0.000000</td>\n",
       "      <td>0.000000</td>\n",
       "      <td>0.000000</td>\n",
       "      <td>0.0</td>\n",
       "      <td>0.0</td>\n",
       "      <td>0.0</td>\n",
       "      <td>0.0</td>\n",
       "      <td>0.0</td>\n",
       "      <td>0.0</td>\n",
       "    </tr>\n",
       "    <tr>\n",
       "      <th>147634</th>\n",
       "      <td>3039653</td>\n",
       "      <td>1227825</td>\n",
       "      <td>24.836</td>\n",
       "      <td>C</td>\n",
       "      <td>15885</td>\n",
       "      <td>545.0</td>\n",
       "      <td>185.0</td>\n",
       "      <td>visa</td>\n",
       "      <td>138.0</td>\n",
       "      <td>debit</td>\n",
       "      <td>...</td>\n",
       "      <td>0.0</td>\n",
       "      <td>0.000000</td>\n",
       "      <td>0.000000</td>\n",
       "      <td>0.000000</td>\n",
       "      <td>0.0</td>\n",
       "      <td>0.0</td>\n",
       "      <td>0.0</td>\n",
       "      <td>0.0</td>\n",
       "      <td>0.0</td>\n",
       "      <td>0.0</td>\n",
       "    </tr>\n",
       "  </tbody>\n",
       "</table>\n",
       "<p>147635 rows × 225 columns</p>\n",
       "</div>"
      ],
      "text/plain": [
       "        TransactionID  TransactionDT  TransactionAmt ProductCD  card1  card2  \\\n",
       "0             3460689       12245831         325.000         W  12932  361.0   \n",
       "1             3415050       10807203          37.257         C  14276  177.0   \n",
       "2             3408682       10685267         100.000         R  16506  554.0   \n",
       "3             3389297       10160809          57.950         W   9500  321.0   \n",
       "4             3366334        9492365          34.258         C  15885  545.0   \n",
       "...               ...            ...             ...       ...    ...    ...   \n",
       "147630        3193088        4738133        3340.640         W   7676  512.0   \n",
       "147631        3400907       10444920         171.000         W   2772  512.0   \n",
       "147632        3489602       13181877         404.950         W   7919  194.0   \n",
       "147633        3534022       14431969          35.950         W  11839  490.0   \n",
       "147634        3039653        1227825          24.836         C  15885  545.0   \n",
       "\n",
       "        card3       card4  card5   card6  ...  V312        V313        V314  \\\n",
       "0       150.0        visa  226.0   debit  ...   0.0    0.000000    0.000000   \n",
       "1       185.0  mastercard  137.0  credit  ...   0.0    0.000000    0.000000   \n",
       "2       150.0        visa  226.0  credit  ...   0.0    0.000000    0.000000   \n",
       "3       150.0        visa  226.0   debit  ...   0.0   35.950001   35.950001   \n",
       "4       185.0        visa  138.0   debit  ...   0.0    0.000000    0.000000   \n",
       "...       ...         ...    ...     ...  ...   ...         ...         ...   \n",
       "147630  150.0        visa  226.0   debit  ...   0.0    0.000000    0.000000   \n",
       "147631  150.0        visa  226.0   debit  ...   0.0  507.000000  507.000000   \n",
       "147632  150.0  mastercard  166.0   debit  ...   0.0    0.000000    0.000000   \n",
       "147633  150.0        visa  226.0   debit  ...   0.0    0.000000    0.000000   \n",
       "147634  185.0        visa  138.0   debit  ...   0.0    0.000000    0.000000   \n",
       "\n",
       "              V315   V316   V317   V318  V319  V320  V321  \n",
       "0         0.000000  325.0  325.0  325.0   0.0   0.0   0.0  \n",
       "1         0.000000    0.0    0.0    0.0   0.0   0.0   0.0  \n",
       "2         0.000000    0.0    0.0    0.0   0.0   0.0   0.0  \n",
       "3        35.950001    0.0    0.0    0.0   0.0   0.0   0.0  \n",
       "4         0.000000    0.0    0.0    0.0   0.0   0.0   0.0  \n",
       "...            ...    ...    ...    ...   ...   ...   ...  \n",
       "147630    0.000000    0.0    0.0    0.0   0.0   0.0   0.0  \n",
       "147631  507.000000    0.0    0.0    0.0   0.0   0.0   0.0  \n",
       "147632    0.000000    0.0    0.0    0.0   0.0   0.0   0.0  \n",
       "147633    0.000000    0.0    0.0    0.0   0.0   0.0   0.0  \n",
       "147634    0.000000    0.0    0.0    0.0   0.0   0.0   0.0  \n",
       "\n",
       "[147635 rows x 225 columns]"
      ]
     },
     "execution_count": 155,
     "metadata": {},
     "output_type": "execute_result"
    }
   ],
   "source": [
    "test"
   ]
  },
  {
   "cell_type": "code",
   "execution_count": 156,
   "id": "4babb4a6",
   "metadata": {},
   "outputs": [],
   "source": [
    "df_num = test.select_dtypes(exclude='object')\n",
    "df_cat = test.select_dtypes(include='object')"
   ]
  },
  {
   "cell_type": "code",
   "execution_count": 157,
   "id": "ee4a2754",
   "metadata": {},
   "outputs": [],
   "source": [
    "for cols in df_cat.columns :\n",
    "    df_cat[cols] = df_cat[cols].fillna(\"NA\")"
   ]
  },
  {
   "cell_type": "code",
   "execution_count": 158,
   "id": "116c502f",
   "metadata": {},
   "outputs": [],
   "source": [
    "dfna = (df_num.isnull().sum()) / df_cat.shape[0] \n",
    "\n",
    "for cols in df_num.columns :\n",
    "    if dfna[cols]:\n",
    "        df_num[cols] = df_num[cols].fillna(df_num[cols].median())"
   ]
  },
  {
   "cell_type": "code",
   "execution_count": 159,
   "id": "7544151b",
   "metadata": {},
   "outputs": [],
   "source": [
    "newdf=pd.concat([df_num,df_cat],axis=1)\n"
   ]
  },
  {
   "cell_type": "code",
   "execution_count": 160,
   "id": "fb495e47",
   "metadata": {},
   "outputs": [],
   "source": [
    "ohe_data = pd.get_dummies(newdf, columns = ['ProductCD','card4','card6','P_emaildomain','M1','M2','M3','M4','M5','M6','M7','M8','M9'])\n",
    "one_hot_encoded_data = ohe_data\n",
    "\n"
   ]
  },
  {
   "cell_type": "code",
   "execution_count": 161,
   "id": "cc4de20e",
   "metadata": {},
   "outputs": [
    {
     "data": {
      "text/html": [
       "<style>#sk-container-id-11 {color: black;background-color: white;}#sk-container-id-11 pre{padding: 0;}#sk-container-id-11 div.sk-toggleable {background-color: white;}#sk-container-id-11 label.sk-toggleable__label {cursor: pointer;display: block;width: 100%;margin-bottom: 0;padding: 0.3em;box-sizing: border-box;text-align: center;}#sk-container-id-11 label.sk-toggleable__label-arrow:before {content: \"▸\";float: left;margin-right: 0.25em;color: #696969;}#sk-container-id-11 label.sk-toggleable__label-arrow:hover:before {color: black;}#sk-container-id-11 div.sk-estimator:hover label.sk-toggleable__label-arrow:before {color: black;}#sk-container-id-11 div.sk-toggleable__content {max-height: 0;max-width: 0;overflow: hidden;text-align: left;background-color: #f0f8ff;}#sk-container-id-11 div.sk-toggleable__content pre {margin: 0.2em;color: black;border-radius: 0.25em;background-color: #f0f8ff;}#sk-container-id-11 input.sk-toggleable__control:checked~div.sk-toggleable__content {max-height: 200px;max-width: 100%;overflow: auto;}#sk-container-id-11 input.sk-toggleable__control:checked~label.sk-toggleable__label-arrow:before {content: \"▾\";}#sk-container-id-11 div.sk-estimator input.sk-toggleable__control:checked~label.sk-toggleable__label {background-color: #d4ebff;}#sk-container-id-11 div.sk-label input.sk-toggleable__control:checked~label.sk-toggleable__label {background-color: #d4ebff;}#sk-container-id-11 input.sk-hidden--visually {border: 0;clip: rect(1px 1px 1px 1px);clip: rect(1px, 1px, 1px, 1px);height: 1px;margin: -1px;overflow: hidden;padding: 0;position: absolute;width: 1px;}#sk-container-id-11 div.sk-estimator {font-family: monospace;background-color: #f0f8ff;border: 1px dotted black;border-radius: 0.25em;box-sizing: border-box;margin-bottom: 0.5em;}#sk-container-id-11 div.sk-estimator:hover {background-color: #d4ebff;}#sk-container-id-11 div.sk-parallel-item::after {content: \"\";width: 100%;border-bottom: 1px solid gray;flex-grow: 1;}#sk-container-id-11 div.sk-label:hover label.sk-toggleable__label {background-color: #d4ebff;}#sk-container-id-11 div.sk-serial::before {content: \"\";position: absolute;border-left: 1px solid gray;box-sizing: border-box;top: 0;bottom: 0;left: 50%;z-index: 0;}#sk-container-id-11 div.sk-serial {display: flex;flex-direction: column;align-items: center;background-color: white;padding-right: 0.2em;padding-left: 0.2em;position: relative;}#sk-container-id-11 div.sk-item {position: relative;z-index: 1;}#sk-container-id-11 div.sk-parallel {display: flex;align-items: stretch;justify-content: center;background-color: white;position: relative;}#sk-container-id-11 div.sk-item::before, #sk-container-id-11 div.sk-parallel-item::before {content: \"\";position: absolute;border-left: 1px solid gray;box-sizing: border-box;top: 0;bottom: 0;left: 50%;z-index: -1;}#sk-container-id-11 div.sk-parallel-item {display: flex;flex-direction: column;z-index: 1;position: relative;background-color: white;}#sk-container-id-11 div.sk-parallel-item:first-child::after {align-self: flex-end;width: 50%;}#sk-container-id-11 div.sk-parallel-item:last-child::after {align-self: flex-start;width: 50%;}#sk-container-id-11 div.sk-parallel-item:only-child::after {width: 0;}#sk-container-id-11 div.sk-dashed-wrapped {border: 1px dashed gray;margin: 0 0.4em 0.5em 0.4em;box-sizing: border-box;padding-bottom: 0.4em;background-color: white;}#sk-container-id-11 div.sk-label label {font-family: monospace;font-weight: bold;display: inline-block;line-height: 1.2em;}#sk-container-id-11 div.sk-label-container {text-align: center;}#sk-container-id-11 div.sk-container {/* jupyter's `normalize.less` sets `[hidden] { display: none; }` but bootstrap.min.css set `[hidden] { display: none !important; }` so we also need the `!important` here to be able to override the default hidden behavior on the sphinx rendered scikit-learn.org. See: https://github.com/scikit-learn/scikit-learn/issues/21755 */display: inline-block !important;position: relative;}#sk-container-id-11 div.sk-text-repr-fallback {display: none;}</style><div id=\"sk-container-id-11\" class=\"sk-top-container\"><div class=\"sk-text-repr-fallback\"><pre>StandardScaler()</pre><b>In a Jupyter environment, please rerun this cell to show the HTML representation or trust the notebook. <br />On GitHub, the HTML representation is unable to render, please try loading this page with nbviewer.org.</b></div><div class=\"sk-container\" hidden><div class=\"sk-item\"><div class=\"sk-estimator sk-toggleable\"><input class=\"sk-toggleable__control sk-hidden--visually\" id=\"sk-estimator-id-13\" type=\"checkbox\" checked><label for=\"sk-estimator-id-13\" class=\"sk-toggleable__label sk-toggleable__label-arrow\">StandardScaler</label><div class=\"sk-toggleable__content\"><pre>StandardScaler()</pre></div></div></div></div></div>"
      ],
      "text/plain": [
       "StandardScaler()"
      ]
     },
     "execution_count": 161,
     "metadata": {},
     "output_type": "execute_result"
    }
   ],
   "source": [
    "from sklearn.preprocessing import StandardScaler\n",
    "scaler=StandardScaler()\n",
    "scaler.fit(one_hot_encoded_data)"
   ]
  },
  {
   "cell_type": "code",
   "execution_count": 162,
   "id": "7dd06d6c",
   "metadata": {},
   "outputs": [
    {
     "data": {
      "text/plain": [
       "array([[ 1.0436057 ,  1.05220914,  0.74240477, ..., -0.26512627,\n",
       "        -1.18813581,  1.36584427],\n",
       "       [ 0.77570832,  0.74055817, -0.3777207 , ..., -0.26512627,\n",
       "         0.84165463, -0.73214789],\n",
       "       [ 0.73832865,  0.71414309, -0.13347486, ..., -0.26512627,\n",
       "         0.84165463, -0.73214789],\n",
       "       ...,\n",
       "       [ 1.21332277,  1.25498542,  1.053634  , ..., -0.26512627,\n",
       "         0.84165463, -0.73214789],\n",
       "       [ 1.47406471,  1.5257937 , -0.38280859, ..., -0.26512627,\n",
       "        -1.18813581,  1.36584427],\n",
       "       [-1.42784291, -1.33462901, -0.42607315, ..., -0.26512627,\n",
       "         0.84165463, -0.73214789]])"
      ]
     },
     "execution_count": 162,
     "metadata": {},
     "output_type": "execute_result"
    }
   ],
   "source": [
    "scaled_data=scaler.transform(one_hot_encoded_data)\n",
    "scaled_data\n",
    "\n",
    "\n"
   ]
  },
  {
   "cell_type": "code",
   "execution_count": 163,
   "id": "b9d1c61a",
   "metadata": {},
   "outputs": [],
   "source": [
    "# from sklearn.decomposition import PCA\n",
    "# pca=PCA(n_components=30)\n",
    "# pca.fit(scaled_data)\n"
   ]
  },
  {
   "cell_type": "code",
   "execution_count": 164,
   "id": "7791763d",
   "metadata": {},
   "outputs": [],
   "source": [
    "xpca=pca.transform(scaled_data)"
   ]
  },
  {
   "cell_type": "code",
   "execution_count": 165,
   "id": "b6946884",
   "metadata": {},
   "outputs": [
    {
     "data": {
      "text/plain": [
       "array([[-3.26188314,  0.30250338, -0.28296096, ..., -0.90531413,\n",
       "         0.03936603,  0.46112289],\n",
       "       [11.86443095, -3.22224062, -0.47721676, ...,  0.32501888,\n",
       "         0.82706352, -0.14302975],\n",
       "       [ 0.04987781, -0.2471871 , -5.49101125, ..., -0.09820025,\n",
       "        -0.06861105,  0.05207706],\n",
       "       ...,\n",
       "       [-3.75532098,  0.24304581,  3.19545968, ..., -0.19705911,\n",
       "        -0.26277349, -0.18908633],\n",
       "       [-4.0458759 , -0.0614456 ,  3.37468457, ..., -0.36899615,\n",
       "         0.05924347, -0.05344855],\n",
       "       [15.78820233, -4.76751506, 14.97756261, ..., -0.0159716 ,\n",
       "        -0.08789473, -0.22664014]])"
      ]
     },
     "execution_count": 165,
     "metadata": {},
     "output_type": "execute_result"
    }
   ],
   "source": [
    "xpca"
   ]
  },
  {
   "cell_type": "code",
   "execution_count": 166,
   "id": "3d062d14",
   "metadata": {},
   "outputs": [],
   "source": [
    "ypred=reg.predict(xpca)"
   ]
  },
  {
   "cell_type": "code",
   "execution_count": 167,
   "id": "185a9b11",
   "metadata": {},
   "outputs": [],
   "source": [
    "# format = pd.DataFrame(ypred).to_csv('Initital_sub2.csv')"
   ]
  },
  {
   "cell_type": "markdown",
   "id": "ba4b9f1f",
   "metadata": {},
   "source": [
    "### Using Decision Tree\n",
    "\n"
   ]
  },
  {
   "cell_type": "code",
   "execution_count": 168,
   "id": "20c1fc60",
   "metadata": {},
   "outputs": [],
   "source": [
    "from sklearn.tree import DecisionTreeClassifier"
   ]
  },
  {
   "cell_type": "code",
   "execution_count": 169,
   "id": "2ceef464",
   "metadata": {},
   "outputs": [
    {
     "data": {
      "text/html": [
       "<style>#sk-container-id-12 {color: black;background-color: white;}#sk-container-id-12 pre{padding: 0;}#sk-container-id-12 div.sk-toggleable {background-color: white;}#sk-container-id-12 label.sk-toggleable__label {cursor: pointer;display: block;width: 100%;margin-bottom: 0;padding: 0.3em;box-sizing: border-box;text-align: center;}#sk-container-id-12 label.sk-toggleable__label-arrow:before {content: \"▸\";float: left;margin-right: 0.25em;color: #696969;}#sk-container-id-12 label.sk-toggleable__label-arrow:hover:before {color: black;}#sk-container-id-12 div.sk-estimator:hover label.sk-toggleable__label-arrow:before {color: black;}#sk-container-id-12 div.sk-toggleable__content {max-height: 0;max-width: 0;overflow: hidden;text-align: left;background-color: #f0f8ff;}#sk-container-id-12 div.sk-toggleable__content pre {margin: 0.2em;color: black;border-radius: 0.25em;background-color: #f0f8ff;}#sk-container-id-12 input.sk-toggleable__control:checked~div.sk-toggleable__content {max-height: 200px;max-width: 100%;overflow: auto;}#sk-container-id-12 input.sk-toggleable__control:checked~label.sk-toggleable__label-arrow:before {content: \"▾\";}#sk-container-id-12 div.sk-estimator input.sk-toggleable__control:checked~label.sk-toggleable__label {background-color: #d4ebff;}#sk-container-id-12 div.sk-label input.sk-toggleable__control:checked~label.sk-toggleable__label {background-color: #d4ebff;}#sk-container-id-12 input.sk-hidden--visually {border: 0;clip: rect(1px 1px 1px 1px);clip: rect(1px, 1px, 1px, 1px);height: 1px;margin: -1px;overflow: hidden;padding: 0;position: absolute;width: 1px;}#sk-container-id-12 div.sk-estimator {font-family: monospace;background-color: #f0f8ff;border: 1px dotted black;border-radius: 0.25em;box-sizing: border-box;margin-bottom: 0.5em;}#sk-container-id-12 div.sk-estimator:hover {background-color: #d4ebff;}#sk-container-id-12 div.sk-parallel-item::after {content: \"\";width: 100%;border-bottom: 1px solid gray;flex-grow: 1;}#sk-container-id-12 div.sk-label:hover label.sk-toggleable__label {background-color: #d4ebff;}#sk-container-id-12 div.sk-serial::before {content: \"\";position: absolute;border-left: 1px solid gray;box-sizing: border-box;top: 0;bottom: 0;left: 50%;z-index: 0;}#sk-container-id-12 div.sk-serial {display: flex;flex-direction: column;align-items: center;background-color: white;padding-right: 0.2em;padding-left: 0.2em;position: relative;}#sk-container-id-12 div.sk-item {position: relative;z-index: 1;}#sk-container-id-12 div.sk-parallel {display: flex;align-items: stretch;justify-content: center;background-color: white;position: relative;}#sk-container-id-12 div.sk-item::before, #sk-container-id-12 div.sk-parallel-item::before {content: \"\";position: absolute;border-left: 1px solid gray;box-sizing: border-box;top: 0;bottom: 0;left: 50%;z-index: -1;}#sk-container-id-12 div.sk-parallel-item {display: flex;flex-direction: column;z-index: 1;position: relative;background-color: white;}#sk-container-id-12 div.sk-parallel-item:first-child::after {align-self: flex-end;width: 50%;}#sk-container-id-12 div.sk-parallel-item:last-child::after {align-self: flex-start;width: 50%;}#sk-container-id-12 div.sk-parallel-item:only-child::after {width: 0;}#sk-container-id-12 div.sk-dashed-wrapped {border: 1px dashed gray;margin: 0 0.4em 0.5em 0.4em;box-sizing: border-box;padding-bottom: 0.4em;background-color: white;}#sk-container-id-12 div.sk-label label {font-family: monospace;font-weight: bold;display: inline-block;line-height: 1.2em;}#sk-container-id-12 div.sk-label-container {text-align: center;}#sk-container-id-12 div.sk-container {/* jupyter's `normalize.less` sets `[hidden] { display: none; }` but bootstrap.min.css set `[hidden] { display: none !important; }` so we also need the `!important` here to be able to override the default hidden behavior on the sphinx rendered scikit-learn.org. See: https://github.com/scikit-learn/scikit-learn/issues/21755 */display: inline-block !important;position: relative;}#sk-container-id-12 div.sk-text-repr-fallback {display: none;}</style><div id=\"sk-container-id-12\" class=\"sk-top-container\"><div class=\"sk-text-repr-fallback\"><pre>DecisionTreeClassifier(max_depth=5)</pre><b>In a Jupyter environment, please rerun this cell to show the HTML representation or trust the notebook. <br />On GitHub, the HTML representation is unable to render, please try loading this page with nbviewer.org.</b></div><div class=\"sk-container\" hidden><div class=\"sk-item\"><div class=\"sk-estimator sk-toggleable\"><input class=\"sk-toggleable__control sk-hidden--visually\" id=\"sk-estimator-id-14\" type=\"checkbox\" checked><label for=\"sk-estimator-id-14\" class=\"sk-toggleable__label sk-toggleable__label-arrow\">DecisionTreeClassifier</label><div class=\"sk-toggleable__content\"><pre>DecisionTreeClassifier(max_depth=5)</pre></div></div></div></div></div>"
      ],
      "text/plain": [
       "DecisionTreeClassifier(max_depth=5)"
      ]
     },
     "execution_count": 169,
     "metadata": {},
     "output_type": "execute_result"
    }
   ],
   "source": [
    "clf=DecisionTreeClassifier(max_depth=5)\n",
    "clf.fit(X_train,Y_train)"
   ]
  },
  {
   "cell_type": "code",
   "execution_count": 170,
   "id": "7fd718d5",
   "metadata": {},
   "outputs": [],
   "source": [
    "ypred=clf.predict(X_test)"
   ]
  },
  {
   "cell_type": "code",
   "execution_count": 171,
   "id": "8e40f758",
   "metadata": {},
   "outputs": [
    {
     "data": {
      "text/plain": [
       "0.7571739560657035"
      ]
     },
     "execution_count": 171,
     "metadata": {},
     "output_type": "execute_result"
    }
   ],
   "source": [
    "f1_score(Y_test,ypredtest)"
   ]
  },
  {
   "cell_type": "code",
   "execution_count": 172,
   "id": "63e2cd54",
   "metadata": {},
   "outputs": [],
   "source": [
    "ypred=clf.predict(xpca)"
   ]
  },
  {
   "cell_type": "code",
   "execution_count": 173,
   "id": "0ecee2d1",
   "metadata": {},
   "outputs": [
    {
     "data": {
      "text/plain": [
       "array([0, 1, 1, ..., 0, 0, 1], dtype=int64)"
      ]
     },
     "execution_count": 173,
     "metadata": {},
     "output_type": "execute_result"
    }
   ],
   "source": [
    "ypred"
   ]
  },
  {
   "cell_type": "code",
   "execution_count": 174,
   "id": "6b21ca9a",
   "metadata": {},
   "outputs": [],
   "source": [
    "format = pd.DataFrame(ypred).to_csv('Initital_sub2.csv')"
   ]
  },
  {
   "cell_type": "markdown",
   "id": "c5cc4018",
   "metadata": {},
   "source": [
    "#### Score=0.69"
   ]
  },
  {
   "cell_type": "markdown",
   "id": "8c8e8a6b",
   "metadata": {},
   "source": [
    "### HyperParameter Tuning for Decision Tree"
   ]
  },
  {
   "cell_type": "code",
   "execution_count": 175,
   "id": "68970d70",
   "metadata": {},
   "outputs": [],
   "source": [
    "param_dist={\n",
    "    \"criterion\":[\"gini\",\"entropy\"],\n",
    "    \"max_depth\":[1,2,3,4,5,None]\n",
    "}"
   ]
  },
  {
   "cell_type": "code",
   "execution_count": 176,
   "id": "59ad6c7d",
   "metadata": {},
   "outputs": [],
   "source": [
    "from sklearn.model_selection import GridSearchCV\n",
    "grid=GridSearchCV(clf,param_grid=param_dist,cv=10,n_jobs=-1)"
   ]
  },
  {
   "cell_type": "code",
   "execution_count": 177,
   "id": "e0d6c65b",
   "metadata": {},
   "outputs": [
    {
     "data": {
      "text/html": [
       "<style>#sk-container-id-13 {color: black;background-color: white;}#sk-container-id-13 pre{padding: 0;}#sk-container-id-13 div.sk-toggleable {background-color: white;}#sk-container-id-13 label.sk-toggleable__label {cursor: pointer;display: block;width: 100%;margin-bottom: 0;padding: 0.3em;box-sizing: border-box;text-align: center;}#sk-container-id-13 label.sk-toggleable__label-arrow:before {content: \"▸\";float: left;margin-right: 0.25em;color: #696969;}#sk-container-id-13 label.sk-toggleable__label-arrow:hover:before {color: black;}#sk-container-id-13 div.sk-estimator:hover label.sk-toggleable__label-arrow:before {color: black;}#sk-container-id-13 div.sk-toggleable__content {max-height: 0;max-width: 0;overflow: hidden;text-align: left;background-color: #f0f8ff;}#sk-container-id-13 div.sk-toggleable__content pre {margin: 0.2em;color: black;border-radius: 0.25em;background-color: #f0f8ff;}#sk-container-id-13 input.sk-toggleable__control:checked~div.sk-toggleable__content {max-height: 200px;max-width: 100%;overflow: auto;}#sk-container-id-13 input.sk-toggleable__control:checked~label.sk-toggleable__label-arrow:before {content: \"▾\";}#sk-container-id-13 div.sk-estimator input.sk-toggleable__control:checked~label.sk-toggleable__label {background-color: #d4ebff;}#sk-container-id-13 div.sk-label input.sk-toggleable__control:checked~label.sk-toggleable__label {background-color: #d4ebff;}#sk-container-id-13 input.sk-hidden--visually {border: 0;clip: rect(1px 1px 1px 1px);clip: rect(1px, 1px, 1px, 1px);height: 1px;margin: -1px;overflow: hidden;padding: 0;position: absolute;width: 1px;}#sk-container-id-13 div.sk-estimator {font-family: monospace;background-color: #f0f8ff;border: 1px dotted black;border-radius: 0.25em;box-sizing: border-box;margin-bottom: 0.5em;}#sk-container-id-13 div.sk-estimator:hover {background-color: #d4ebff;}#sk-container-id-13 div.sk-parallel-item::after {content: \"\";width: 100%;border-bottom: 1px solid gray;flex-grow: 1;}#sk-container-id-13 div.sk-label:hover label.sk-toggleable__label {background-color: #d4ebff;}#sk-container-id-13 div.sk-serial::before {content: \"\";position: absolute;border-left: 1px solid gray;box-sizing: border-box;top: 0;bottom: 0;left: 50%;z-index: 0;}#sk-container-id-13 div.sk-serial {display: flex;flex-direction: column;align-items: center;background-color: white;padding-right: 0.2em;padding-left: 0.2em;position: relative;}#sk-container-id-13 div.sk-item {position: relative;z-index: 1;}#sk-container-id-13 div.sk-parallel {display: flex;align-items: stretch;justify-content: center;background-color: white;position: relative;}#sk-container-id-13 div.sk-item::before, #sk-container-id-13 div.sk-parallel-item::before {content: \"\";position: absolute;border-left: 1px solid gray;box-sizing: border-box;top: 0;bottom: 0;left: 50%;z-index: -1;}#sk-container-id-13 div.sk-parallel-item {display: flex;flex-direction: column;z-index: 1;position: relative;background-color: white;}#sk-container-id-13 div.sk-parallel-item:first-child::after {align-self: flex-end;width: 50%;}#sk-container-id-13 div.sk-parallel-item:last-child::after {align-self: flex-start;width: 50%;}#sk-container-id-13 div.sk-parallel-item:only-child::after {width: 0;}#sk-container-id-13 div.sk-dashed-wrapped {border: 1px dashed gray;margin: 0 0.4em 0.5em 0.4em;box-sizing: border-box;padding-bottom: 0.4em;background-color: white;}#sk-container-id-13 div.sk-label label {font-family: monospace;font-weight: bold;display: inline-block;line-height: 1.2em;}#sk-container-id-13 div.sk-label-container {text-align: center;}#sk-container-id-13 div.sk-container {/* jupyter's `normalize.less` sets `[hidden] { display: none; }` but bootstrap.min.css set `[hidden] { display: none !important; }` so we also need the `!important` here to be able to override the default hidden behavior on the sphinx rendered scikit-learn.org. See: https://github.com/scikit-learn/scikit-learn/issues/21755 */display: inline-block !important;position: relative;}#sk-container-id-13 div.sk-text-repr-fallback {display: none;}</style><div id=\"sk-container-id-13\" class=\"sk-top-container\"><div class=\"sk-text-repr-fallback\"><pre>GridSearchCV(cv=10, estimator=DecisionTreeClassifier(max_depth=5), n_jobs=-1,\n",
       "             param_grid={&#x27;criterion&#x27;: [&#x27;gini&#x27;, &#x27;entropy&#x27;],\n",
       "                         &#x27;max_depth&#x27;: [1, 2, 3, 4, 5, None]})</pre><b>In a Jupyter environment, please rerun this cell to show the HTML representation or trust the notebook. <br />On GitHub, the HTML representation is unable to render, please try loading this page with nbviewer.org.</b></div><div class=\"sk-container\" hidden><div class=\"sk-item sk-dashed-wrapped\"><div class=\"sk-label-container\"><div class=\"sk-label sk-toggleable\"><input class=\"sk-toggleable__control sk-hidden--visually\" id=\"sk-estimator-id-15\" type=\"checkbox\" ><label for=\"sk-estimator-id-15\" class=\"sk-toggleable__label sk-toggleable__label-arrow\">GridSearchCV</label><div class=\"sk-toggleable__content\"><pre>GridSearchCV(cv=10, estimator=DecisionTreeClassifier(max_depth=5), n_jobs=-1,\n",
       "             param_grid={&#x27;criterion&#x27;: [&#x27;gini&#x27;, &#x27;entropy&#x27;],\n",
       "                         &#x27;max_depth&#x27;: [1, 2, 3, 4, 5, None]})</pre></div></div></div><div class=\"sk-parallel\"><div class=\"sk-parallel-item\"><div class=\"sk-item\"><div class=\"sk-label-container\"><div class=\"sk-label sk-toggleable\"><input class=\"sk-toggleable__control sk-hidden--visually\" id=\"sk-estimator-id-16\" type=\"checkbox\" ><label for=\"sk-estimator-id-16\" class=\"sk-toggleable__label sk-toggleable__label-arrow\">estimator: DecisionTreeClassifier</label><div class=\"sk-toggleable__content\"><pre>DecisionTreeClassifier(max_depth=5)</pre></div></div></div><div class=\"sk-serial\"><div class=\"sk-item\"><div class=\"sk-estimator sk-toggleable\"><input class=\"sk-toggleable__control sk-hidden--visually\" id=\"sk-estimator-id-17\" type=\"checkbox\" ><label for=\"sk-estimator-id-17\" class=\"sk-toggleable__label sk-toggleable__label-arrow\">DecisionTreeClassifier</label><div class=\"sk-toggleable__content\"><pre>DecisionTreeClassifier(max_depth=5)</pre></div></div></div></div></div></div></div></div></div></div>"
      ],
      "text/plain": [
       "GridSearchCV(cv=10, estimator=DecisionTreeClassifier(max_depth=5), n_jobs=-1,\n",
       "             param_grid={'criterion': ['gini', 'entropy'],\n",
       "                         'max_depth': [1, 2, 3, 4, 5, None]})"
      ]
     },
     "execution_count": 177,
     "metadata": {},
     "output_type": "execute_result"
    }
   ],
   "source": [
    "grid.fit(X_train,Y_train)"
   ]
  },
  {
   "cell_type": "code",
   "execution_count": 178,
   "id": "d0d2c6d7",
   "metadata": {},
   "outputs": [
    {
     "data": {
      "text/html": [
       "<style>#sk-container-id-14 {color: black;background-color: white;}#sk-container-id-14 pre{padding: 0;}#sk-container-id-14 div.sk-toggleable {background-color: white;}#sk-container-id-14 label.sk-toggleable__label {cursor: pointer;display: block;width: 100%;margin-bottom: 0;padding: 0.3em;box-sizing: border-box;text-align: center;}#sk-container-id-14 label.sk-toggleable__label-arrow:before {content: \"▸\";float: left;margin-right: 0.25em;color: #696969;}#sk-container-id-14 label.sk-toggleable__label-arrow:hover:before {color: black;}#sk-container-id-14 div.sk-estimator:hover label.sk-toggleable__label-arrow:before {color: black;}#sk-container-id-14 div.sk-toggleable__content {max-height: 0;max-width: 0;overflow: hidden;text-align: left;background-color: #f0f8ff;}#sk-container-id-14 div.sk-toggleable__content pre {margin: 0.2em;color: black;border-radius: 0.25em;background-color: #f0f8ff;}#sk-container-id-14 input.sk-toggleable__control:checked~div.sk-toggleable__content {max-height: 200px;max-width: 100%;overflow: auto;}#sk-container-id-14 input.sk-toggleable__control:checked~label.sk-toggleable__label-arrow:before {content: \"▾\";}#sk-container-id-14 div.sk-estimator input.sk-toggleable__control:checked~label.sk-toggleable__label {background-color: #d4ebff;}#sk-container-id-14 div.sk-label input.sk-toggleable__control:checked~label.sk-toggleable__label {background-color: #d4ebff;}#sk-container-id-14 input.sk-hidden--visually {border: 0;clip: rect(1px 1px 1px 1px);clip: rect(1px, 1px, 1px, 1px);height: 1px;margin: -1px;overflow: hidden;padding: 0;position: absolute;width: 1px;}#sk-container-id-14 div.sk-estimator {font-family: monospace;background-color: #f0f8ff;border: 1px dotted black;border-radius: 0.25em;box-sizing: border-box;margin-bottom: 0.5em;}#sk-container-id-14 div.sk-estimator:hover {background-color: #d4ebff;}#sk-container-id-14 div.sk-parallel-item::after {content: \"\";width: 100%;border-bottom: 1px solid gray;flex-grow: 1;}#sk-container-id-14 div.sk-label:hover label.sk-toggleable__label {background-color: #d4ebff;}#sk-container-id-14 div.sk-serial::before {content: \"\";position: absolute;border-left: 1px solid gray;box-sizing: border-box;top: 0;bottom: 0;left: 50%;z-index: 0;}#sk-container-id-14 div.sk-serial {display: flex;flex-direction: column;align-items: center;background-color: white;padding-right: 0.2em;padding-left: 0.2em;position: relative;}#sk-container-id-14 div.sk-item {position: relative;z-index: 1;}#sk-container-id-14 div.sk-parallel {display: flex;align-items: stretch;justify-content: center;background-color: white;position: relative;}#sk-container-id-14 div.sk-item::before, #sk-container-id-14 div.sk-parallel-item::before {content: \"\";position: absolute;border-left: 1px solid gray;box-sizing: border-box;top: 0;bottom: 0;left: 50%;z-index: -1;}#sk-container-id-14 div.sk-parallel-item {display: flex;flex-direction: column;z-index: 1;position: relative;background-color: white;}#sk-container-id-14 div.sk-parallel-item:first-child::after {align-self: flex-end;width: 50%;}#sk-container-id-14 div.sk-parallel-item:last-child::after {align-self: flex-start;width: 50%;}#sk-container-id-14 div.sk-parallel-item:only-child::after {width: 0;}#sk-container-id-14 div.sk-dashed-wrapped {border: 1px dashed gray;margin: 0 0.4em 0.5em 0.4em;box-sizing: border-box;padding-bottom: 0.4em;background-color: white;}#sk-container-id-14 div.sk-label label {font-family: monospace;font-weight: bold;display: inline-block;line-height: 1.2em;}#sk-container-id-14 div.sk-label-container {text-align: center;}#sk-container-id-14 div.sk-container {/* jupyter's `normalize.less` sets `[hidden] { display: none; }` but bootstrap.min.css set `[hidden] { display: none !important; }` so we also need the `!important` here to be able to override the default hidden behavior on the sphinx rendered scikit-learn.org. See: https://github.com/scikit-learn/scikit-learn/issues/21755 */display: inline-block !important;position: relative;}#sk-container-id-14 div.sk-text-repr-fallback {display: none;}</style><div id=\"sk-container-id-14\" class=\"sk-top-container\"><div class=\"sk-text-repr-fallback\"><pre>DecisionTreeClassifier(max_depth=5)</pre><b>In a Jupyter environment, please rerun this cell to show the HTML representation or trust the notebook. <br />On GitHub, the HTML representation is unable to render, please try loading this page with nbviewer.org.</b></div><div class=\"sk-container\" hidden><div class=\"sk-item\"><div class=\"sk-estimator sk-toggleable\"><input class=\"sk-toggleable__control sk-hidden--visually\" id=\"sk-estimator-id-18\" type=\"checkbox\" checked><label for=\"sk-estimator-id-18\" class=\"sk-toggleable__label sk-toggleable__label-arrow\">DecisionTreeClassifier</label><div class=\"sk-toggleable__content\"><pre>DecisionTreeClassifier(max_depth=5)</pre></div></div></div></div></div>"
      ],
      "text/plain": [
       "DecisionTreeClassifier(max_depth=5)"
      ]
     },
     "execution_count": 178,
     "metadata": {},
     "output_type": "execute_result"
    }
   ],
   "source": [
    "grid.best_estimator_"
   ]
  },
  {
   "cell_type": "code",
   "execution_count": 179,
   "id": "48364aa1",
   "metadata": {},
   "outputs": [
    {
     "data": {
      "text/plain": [
       "0.7376002049480311"
      ]
     },
     "execution_count": 179,
     "metadata": {},
     "output_type": "execute_result"
    }
   ],
   "source": [
    "grid.best_score_"
   ]
  },
  {
   "cell_type": "code",
   "execution_count": 180,
   "id": "ef5a5c4b",
   "metadata": {},
   "outputs": [
    {
     "data": {
      "text/plain": [
       "{'criterion': 'gini', 'max_depth': 5}"
      ]
     },
     "execution_count": 180,
     "metadata": {},
     "output_type": "execute_result"
    }
   ],
   "source": [
    "grid.best_params_"
   ]
  },
  {
   "cell_type": "markdown",
   "id": "3da87295",
   "metadata": {},
   "source": [
    "### Didn't improved score"
   ]
  },
  {
   "cell_type": "markdown",
   "id": "14caa77f",
   "metadata": {},
   "source": []
  }
 ],
 "metadata": {
  "kernelspec": {
   "display_name": "Python 3 (ipykernel)",
   "language": "python",
   "name": "python3"
  },
  "language_info": {
   "codemirror_mode": {
    "name": "ipython",
    "version": 3
   },
   "file_extension": ".py",
   "mimetype": "text/x-python",
   "name": "python",
   "nbconvert_exporter": "python",
   "pygments_lexer": "ipython3",
   "version": "3.9.12"
  },
  "vscode": {
   "interpreter": {
    "hash": "2cee9cc7cd6dddec8f66ea2f2220fd61b222c2e5d0a6c011cc25d2d805819b23"
   }
  }
 },
 "nbformat": 4,
 "nbformat_minor": 5
}
